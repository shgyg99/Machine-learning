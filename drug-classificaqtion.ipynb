{
 "cells": [
  {
   "cell_type": "code",
   "execution_count": 1,
   "id": "4a6e9f3a",
   "metadata": {
    "_cell_guid": "b1076dfc-b9ad-4769-8c92-a6c4dae69d19",
    "_uuid": "8f2839f25d086af736a60e9eeb907d3b93b6e0e5",
    "execution": {
     "iopub.execute_input": "2023-11-22T13:56:26.606032Z",
     "iopub.status.busy": "2023-11-22T13:56:26.605603Z",
     "iopub.status.idle": "2023-11-22T13:56:27.051253Z",
     "shell.execute_reply": "2023-11-22T13:56:27.050112Z"
    },
    "papermill": {
     "duration": 0.463728,
     "end_time": "2023-11-22T13:56:27.054127",
     "exception": false,
     "start_time": "2023-11-22T13:56:26.590399",
     "status": "completed"
    },
    "tags": []
   },
   "outputs": [
    {
     "name": "stdout",
     "output_type": "stream",
     "text": [
      "/kaggle/input/drug-classification/drug200.csv\n"
     ]
    }
   ],
   "source": [
    "# This Python 3 environment comes with many helpful analytics libraries installed\n",
    "# It is defined by the kaggle/python Docker image: https://github.com/kaggle/docker-python\n",
    "# For example, here's several helpful packages to load\n",
    "\n",
    "import numpy as np # linear algebra\n",
    "import pandas as pd # data processing, CSV file I/O (e.g. pd.read_csv)\n",
    "\n",
    "# Input data files are available in the read-only \"../input/\" directory\n",
    "# For example, running this (by clicking run or pressing Shift+Enter) will list all files under the input directory\n",
    "\n",
    "import os\n",
    "for dirname, _, filenames in os.walk('/kaggle/input'):\n",
    "    for filename in filenames:\n",
    "        print(os.path.join(dirname, filename))\n",
    "\n",
    "# You can write up to 20GB to the current directory (/kaggle/working/) that gets preserved as output when you create a version using \"Save & Run All\" \n",
    "# You can also write temporary files to /kaggle/temp/, but they won't be saved outside of the current session"
   ]
  },
  {
   "cell_type": "markdown",
   "id": "96c71600",
   "metadata": {
    "papermill": {
     "duration": 0.012224,
     "end_time": "2023-11-22T13:56:27.079199",
     "exception": false,
     "start_time": "2023-11-22T13:56:27.066975",
     "status": "completed"
    },
    "tags": []
   },
   "source": [
    "Exploring the Contents: A Glimpse into the Dataset"
   ]
  },
  {
   "cell_type": "code",
   "execution_count": 2,
   "id": "23c1b2f5",
   "metadata": {
    "execution": {
     "iopub.execute_input": "2023-11-22T13:56:27.106643Z",
     "iopub.status.busy": "2023-11-22T13:56:27.106118Z",
     "iopub.status.idle": "2023-11-22T13:56:28.459021Z",
     "shell.execute_reply": "2023-11-22T13:56:28.457569Z"
    },
    "papermill": {
     "duration": 1.370445,
     "end_time": "2023-11-22T13:56:28.462403",
     "exception": false,
     "start_time": "2023-11-22T13:56:27.091958",
     "status": "completed"
    },
    "tags": []
   },
   "outputs": [],
   "source": [
    "import numpy as np\n",
    "import pandas as pd\n",
    "import matplotlib.pyplot as plt\n",
    "import seaborn as sns\n",
    "import os"
   ]
  },
  {
   "cell_type": "code",
   "execution_count": 3,
   "id": "f9e6f27e",
   "metadata": {
    "execution": {
     "iopub.execute_input": "2023-11-22T13:56:28.489969Z",
     "iopub.status.busy": "2023-11-22T13:56:28.488904Z",
     "iopub.status.idle": "2023-11-22T13:56:28.512174Z",
     "shell.execute_reply": "2023-11-22T13:56:28.510786Z"
    },
    "papermill": {
     "duration": 0.04041,
     "end_time": "2023-11-22T13:56:28.515472",
     "exception": false,
     "start_time": "2023-11-22T13:56:28.475062",
     "status": "completed"
    },
    "tags": []
   },
   "outputs": [],
   "source": [
    "df = pd.read_csv(\"/kaggle/input/drug-classification/drug200.csv\")"
   ]
  },
  {
   "cell_type": "code",
   "execution_count": 4,
   "id": "7901acdc",
   "metadata": {
    "execution": {
     "iopub.execute_input": "2023-11-22T13:56:28.543991Z",
     "iopub.status.busy": "2023-11-22T13:56:28.543182Z",
     "iopub.status.idle": "2023-11-22T13:56:28.569338Z",
     "shell.execute_reply": "2023-11-22T13:56:28.567953Z"
    },
    "papermill": {
     "duration": 0.043125,
     "end_time": "2023-11-22T13:56:28.572086",
     "exception": false,
     "start_time": "2023-11-22T13:56:28.528961",
     "status": "completed"
    },
    "tags": []
   },
   "outputs": [
    {
     "data": {
      "text/html": [
       "<div>\n",
       "<style scoped>\n",
       "    .dataframe tbody tr th:only-of-type {\n",
       "        vertical-align: middle;\n",
       "    }\n",
       "\n",
       "    .dataframe tbody tr th {\n",
       "        vertical-align: top;\n",
       "    }\n",
       "\n",
       "    .dataframe thead th {\n",
       "        text-align: right;\n",
       "    }\n",
       "</style>\n",
       "<table border=\"1\" class=\"dataframe\">\n",
       "  <thead>\n",
       "    <tr style=\"text-align: right;\">\n",
       "      <th></th>\n",
       "      <th>Age</th>\n",
       "      <th>Sex</th>\n",
       "      <th>BP</th>\n",
       "      <th>Cholesterol</th>\n",
       "      <th>Na_to_K</th>\n",
       "      <th>Drug</th>\n",
       "    </tr>\n",
       "  </thead>\n",
       "  <tbody>\n",
       "    <tr>\n",
       "      <th>0</th>\n",
       "      <td>23</td>\n",
       "      <td>F</td>\n",
       "      <td>HIGH</td>\n",
       "      <td>HIGH</td>\n",
       "      <td>25.355</td>\n",
       "      <td>DrugY</td>\n",
       "    </tr>\n",
       "    <tr>\n",
       "      <th>1</th>\n",
       "      <td>47</td>\n",
       "      <td>M</td>\n",
       "      <td>LOW</td>\n",
       "      <td>HIGH</td>\n",
       "      <td>13.093</td>\n",
       "      <td>drugC</td>\n",
       "    </tr>\n",
       "    <tr>\n",
       "      <th>2</th>\n",
       "      <td>47</td>\n",
       "      <td>M</td>\n",
       "      <td>LOW</td>\n",
       "      <td>HIGH</td>\n",
       "      <td>10.114</td>\n",
       "      <td>drugC</td>\n",
       "    </tr>\n",
       "    <tr>\n",
       "      <th>3</th>\n",
       "      <td>28</td>\n",
       "      <td>F</td>\n",
       "      <td>NORMAL</td>\n",
       "      <td>HIGH</td>\n",
       "      <td>7.798</td>\n",
       "      <td>drugX</td>\n",
       "    </tr>\n",
       "    <tr>\n",
       "      <th>4</th>\n",
       "      <td>61</td>\n",
       "      <td>F</td>\n",
       "      <td>LOW</td>\n",
       "      <td>HIGH</td>\n",
       "      <td>18.043</td>\n",
       "      <td>DrugY</td>\n",
       "    </tr>\n",
       "  </tbody>\n",
       "</table>\n",
       "</div>"
      ],
      "text/plain": [
       "   Age Sex      BP Cholesterol  Na_to_K   Drug\n",
       "0   23   F    HIGH        HIGH   25.355  DrugY\n",
       "1   47   M     LOW        HIGH   13.093  drugC\n",
       "2   47   M     LOW        HIGH   10.114  drugC\n",
       "3   28   F  NORMAL        HIGH    7.798  drugX\n",
       "4   61   F     LOW        HIGH   18.043  DrugY"
      ]
     },
     "execution_count": 4,
     "metadata": {},
     "output_type": "execute_result"
    }
   ],
   "source": [
    "df.head(5)"
   ]
  },
  {
   "cell_type": "markdown",
   "id": "32065ac8",
   "metadata": {
    "papermill": {
     "duration": 0.012621,
     "end_time": "2023-11-22T13:56:28.598229",
     "exception": false,
     "start_time": "2023-11-22T13:56:28.585608",
     "status": "completed"
    },
    "tags": []
   },
   "source": [
    "\"Identifying Challenges: Exploring Issues within the Dataset.\""
   ]
  },
  {
   "cell_type": "code",
   "execution_count": 5,
   "id": "9711a8cb",
   "metadata": {
    "execution": {
     "iopub.execute_input": "2023-11-22T13:56:28.625764Z",
     "iopub.status.busy": "2023-11-22T13:56:28.624836Z",
     "iopub.status.idle": "2023-11-22T13:56:28.634285Z",
     "shell.execute_reply": "2023-11-22T13:56:28.633387Z"
    },
    "papermill": {
     "duration": 0.025536,
     "end_time": "2023-11-22T13:56:28.636495",
     "exception": false,
     "start_time": "2023-11-22T13:56:28.610959",
     "status": "completed"
    },
    "tags": []
   },
   "outputs": [
    {
     "data": {
      "text/plain": [
       "Age            0\n",
       "Sex            0\n",
       "BP             0\n",
       "Cholesterol    0\n",
       "Na_to_K        0\n",
       "Drug           0\n",
       "dtype: int64"
      ]
     },
     "execution_count": 5,
     "metadata": {},
     "output_type": "execute_result"
    }
   ],
   "source": [
    "df.isnull().sum()"
   ]
  },
  {
   "cell_type": "markdown",
   "id": "df260ddf",
   "metadata": {
    "papermill": {
     "duration": 0.012796,
     "end_time": "2023-11-22T13:56:28.662712",
     "exception": false,
     "start_time": "2023-11-22T13:56:28.649916",
     "status": "completed"
    },
    "tags": []
   },
   "source": [
    "ok!thats Great"
   ]
  },
  {
   "cell_type": "code",
   "execution_count": 6,
   "id": "f83a3d6a",
   "metadata": {
    "execution": {
     "iopub.execute_input": "2023-11-22T13:56:28.690196Z",
     "iopub.status.busy": "2023-11-22T13:56:28.689726Z",
     "iopub.status.idle": "2023-11-22T13:56:28.711125Z",
     "shell.execute_reply": "2023-11-22T13:56:28.709874Z"
    },
    "papermill": {
     "duration": 0.038183,
     "end_time": "2023-11-22T13:56:28.713783",
     "exception": false,
     "start_time": "2023-11-22T13:56:28.675600",
     "status": "completed"
    },
    "tags": []
   },
   "outputs": [
    {
     "data": {
      "text/html": [
       "<div>\n",
       "<style scoped>\n",
       "    .dataframe tbody tr th:only-of-type {\n",
       "        vertical-align: middle;\n",
       "    }\n",
       "\n",
       "    .dataframe tbody tr th {\n",
       "        vertical-align: top;\n",
       "    }\n",
       "\n",
       "    .dataframe thead th {\n",
       "        text-align: right;\n",
       "    }\n",
       "</style>\n",
       "<table border=\"1\" class=\"dataframe\">\n",
       "  <thead>\n",
       "    <tr style=\"text-align: right;\">\n",
       "      <th></th>\n",
       "      <th>Age</th>\n",
       "      <th>Na_to_K</th>\n",
       "    </tr>\n",
       "  </thead>\n",
       "  <tbody>\n",
       "    <tr>\n",
       "      <th>count</th>\n",
       "      <td>200.000000</td>\n",
       "      <td>200.000000</td>\n",
       "    </tr>\n",
       "    <tr>\n",
       "      <th>mean</th>\n",
       "      <td>44.315000</td>\n",
       "      <td>16.084485</td>\n",
       "    </tr>\n",
       "    <tr>\n",
       "      <th>std</th>\n",
       "      <td>16.544315</td>\n",
       "      <td>7.223956</td>\n",
       "    </tr>\n",
       "    <tr>\n",
       "      <th>min</th>\n",
       "      <td>15.000000</td>\n",
       "      <td>6.269000</td>\n",
       "    </tr>\n",
       "    <tr>\n",
       "      <th>25%</th>\n",
       "      <td>31.000000</td>\n",
       "      <td>10.445500</td>\n",
       "    </tr>\n",
       "    <tr>\n",
       "      <th>50%</th>\n",
       "      <td>45.000000</td>\n",
       "      <td>13.936500</td>\n",
       "    </tr>\n",
       "    <tr>\n",
       "      <th>75%</th>\n",
       "      <td>58.000000</td>\n",
       "      <td>19.380000</td>\n",
       "    </tr>\n",
       "    <tr>\n",
       "      <th>max</th>\n",
       "      <td>74.000000</td>\n",
       "      <td>38.247000</td>\n",
       "    </tr>\n",
       "  </tbody>\n",
       "</table>\n",
       "</div>"
      ],
      "text/plain": [
       "              Age     Na_to_K\n",
       "count  200.000000  200.000000\n",
       "mean    44.315000   16.084485\n",
       "std     16.544315    7.223956\n",
       "min     15.000000    6.269000\n",
       "25%     31.000000   10.445500\n",
       "50%     45.000000   13.936500\n",
       "75%     58.000000   19.380000\n",
       "max     74.000000   38.247000"
      ]
     },
     "execution_count": 6,
     "metadata": {},
     "output_type": "execute_result"
    }
   ],
   "source": [
    "df.describe()"
   ]
  },
  {
   "cell_type": "code",
   "execution_count": 7,
   "id": "b95adfba",
   "metadata": {
    "execution": {
     "iopub.execute_input": "2023-11-22T13:56:28.743032Z",
     "iopub.status.busy": "2023-11-22T13:56:28.742635Z",
     "iopub.status.idle": "2023-11-22T13:56:28.771565Z",
     "shell.execute_reply": "2023-11-22T13:56:28.770333Z"
    },
    "papermill": {
     "duration": 0.047533,
     "end_time": "2023-11-22T13:56:28.774604",
     "exception": false,
     "start_time": "2023-11-22T13:56:28.727071",
     "status": "completed"
    },
    "tags": []
   },
   "outputs": [
    {
     "name": "stdout",
     "output_type": "stream",
     "text": [
      "<class 'pandas.core.frame.DataFrame'>\n",
      "RangeIndex: 200 entries, 0 to 199\n",
      "Data columns (total 6 columns):\n",
      " #   Column       Non-Null Count  Dtype  \n",
      "---  ------       --------------  -----  \n",
      " 0   Age          200 non-null    int64  \n",
      " 1   Sex          200 non-null    object \n",
      " 2   BP           200 non-null    object \n",
      " 3   Cholesterol  200 non-null    object \n",
      " 4   Na_to_K      200 non-null    float64\n",
      " 5   Drug         200 non-null    object \n",
      "dtypes: float64(1), int64(1), object(4)\n",
      "memory usage: 9.5+ KB\n"
     ]
    }
   ],
   "source": [
    "df.info()"
   ]
  },
  {
   "cell_type": "code",
   "execution_count": 8,
   "id": "c5c60cd3",
   "metadata": {
    "execution": {
     "iopub.execute_input": "2023-11-22T13:56:28.803483Z",
     "iopub.status.busy": "2023-11-22T13:56:28.803034Z",
     "iopub.status.idle": "2023-11-22T13:56:28.811995Z",
     "shell.execute_reply": "2023-11-22T13:56:28.810816Z"
    },
    "papermill": {
     "duration": 0.02629,
     "end_time": "2023-11-22T13:56:28.814506",
     "exception": false,
     "start_time": "2023-11-22T13:56:28.788216",
     "status": "completed"
    },
    "tags": []
   },
   "outputs": [
    {
     "data": {
      "text/plain": [
       "Sex\n",
       "M    104\n",
       "F     96\n",
       "Name: count, dtype: int64"
      ]
     },
     "execution_count": 8,
     "metadata": {},
     "output_type": "execute_result"
    }
   ],
   "source": [
    "df['Sex'].value_counts()"
   ]
  },
  {
   "cell_type": "markdown",
   "id": "8bac2b74",
   "metadata": {
    "papermill": {
     "duration": 0.013122,
     "end_time": "2023-11-22T13:56:28.841168",
     "exception": false,
     "start_time": "2023-11-22T13:56:28.828046",
     "status": "completed"
    },
    "tags": []
   },
   "source": [
    "\"Data Imputation: Replacing Values in Selected Columns.\""
   ]
  },
  {
   "cell_type": "code",
   "execution_count": 9,
   "id": "2f39d06b",
   "metadata": {
    "execution": {
     "iopub.execute_input": "2023-11-22T13:56:28.870581Z",
     "iopub.status.busy": "2023-11-22T13:56:28.870196Z",
     "iopub.status.idle": "2023-11-22T13:56:28.878509Z",
     "shell.execute_reply": "2023-11-22T13:56:28.877452Z"
    },
    "papermill": {
     "duration": 0.025855,
     "end_time": "2023-11-22T13:56:28.880687",
     "exception": false,
     "start_time": "2023-11-22T13:56:28.854832",
     "status": "completed"
    },
    "tags": []
   },
   "outputs": [],
   "source": [
    "df['Sex'].replace({'M':'Male', 'F':'Female'}, inplace=True)"
   ]
  },
  {
   "cell_type": "code",
   "execution_count": 10,
   "id": "bcb0fdce",
   "metadata": {
    "execution": {
     "iopub.execute_input": "2023-11-22T13:56:28.910059Z",
     "iopub.status.busy": "2023-11-22T13:56:28.909673Z",
     "iopub.status.idle": "2023-11-22T13:56:28.918624Z",
     "shell.execute_reply": "2023-11-22T13:56:28.917512Z"
    },
    "papermill": {
     "duration": 0.026215,
     "end_time": "2023-11-22T13:56:28.921031",
     "exception": false,
     "start_time": "2023-11-22T13:56:28.894816",
     "status": "completed"
    },
    "tags": []
   },
   "outputs": [
    {
     "data": {
      "text/plain": [
       "BP\n",
       "HIGH      77\n",
       "LOW       64\n",
       "NORMAL    59\n",
       "Name: count, dtype: int64"
      ]
     },
     "execution_count": 10,
     "metadata": {},
     "output_type": "execute_result"
    }
   ],
   "source": [
    "df['BP'].value_counts()"
   ]
  },
  {
   "cell_type": "code",
   "execution_count": 11,
   "id": "d0ef174c",
   "metadata": {
    "execution": {
     "iopub.execute_input": "2023-11-22T13:56:28.950274Z",
     "iopub.status.busy": "2023-11-22T13:56:28.949514Z",
     "iopub.status.idle": "2023-11-22T13:56:28.958362Z",
     "shell.execute_reply": "2023-11-22T13:56:28.957269Z"
    },
    "papermill": {
     "duration": 0.026396,
     "end_time": "2023-11-22T13:56:28.961020",
     "exception": false,
     "start_time": "2023-11-22T13:56:28.934624",
     "status": "completed"
    },
    "tags": []
   },
   "outputs": [
    {
     "data": {
      "text/plain": [
       "Cholesterol\n",
       "HIGH      103\n",
       "NORMAL     97\n",
       "Name: count, dtype: int64"
      ]
     },
     "execution_count": 11,
     "metadata": {},
     "output_type": "execute_result"
    }
   ],
   "source": [
    "df['Cholesterol'].value_counts()"
   ]
  },
  {
   "cell_type": "code",
   "execution_count": 12,
   "id": "f948cdb8",
   "metadata": {
    "execution": {
     "iopub.execute_input": "2023-11-22T13:56:28.991051Z",
     "iopub.status.busy": "2023-11-22T13:56:28.990439Z",
     "iopub.status.idle": "2023-11-22T13:56:28.999963Z",
     "shell.execute_reply": "2023-11-22T13:56:28.998854Z"
    },
    "papermill": {
     "duration": 0.027575,
     "end_time": "2023-11-22T13:56:29.002517",
     "exception": false,
     "start_time": "2023-11-22T13:56:28.974942",
     "status": "completed"
    },
    "tags": []
   },
   "outputs": [
    {
     "data": {
      "text/plain": [
       "Drug\n",
       "DrugY    91\n",
       "drugX    54\n",
       "drugA    23\n",
       "drugC    16\n",
       "drugB    16\n",
       "Name: count, dtype: int64"
      ]
     },
     "execution_count": 12,
     "metadata": {},
     "output_type": "execute_result"
    }
   ],
   "source": [
    "df['Drug'].value_counts()"
   ]
  },
  {
   "cell_type": "code",
   "execution_count": 13,
   "id": "fd51d4db",
   "metadata": {
    "execution": {
     "iopub.execute_input": "2023-11-22T13:56:29.032149Z",
     "iopub.status.busy": "2023-11-22T13:56:29.031726Z",
     "iopub.status.idle": "2023-11-22T13:56:29.661660Z",
     "shell.execute_reply": "2023-11-22T13:56:29.660384Z"
    },
    "papermill": {
     "duration": 0.647615,
     "end_time": "2023-11-22T13:56:29.664026",
     "exception": false,
     "start_time": "2023-11-22T13:56:29.016411",
     "status": "completed"
    },
    "tags": []
   },
   "outputs": [
    {
     "data": {
      "text/plain": [
       "<seaborn.axisgrid.FacetGrid at 0x7e8f4b438e50>"
      ]
     },
     "execution_count": 13,
     "metadata": {},
     "output_type": "execute_result"
    },
    {
     "data": {
      "image/png": "[encoded data removed]",
      "text/plain": [
       "<Figure size 500x500 with 1 Axes>"
      ]
     },
     "metadata": {},
     "output_type": "display_data"
    }
   ],
   "source": [
    "sns.displot(df['Age'], kde=True,color = 'purple')"
   ]
  },
  {
   "cell_type": "code",
   "execution_count": 14,
   "id": "10576a8c",
   "metadata": {
    "execution": {
     "iopub.execute_input": "2023-11-22T13:56:29.694826Z",
     "iopub.status.busy": "2023-11-22T13:56:29.694404Z",
     "iopub.status.idle": "2023-11-22T13:56:30.212665Z",
     "shell.execute_reply": "2023-11-22T13:56:30.211425Z"
    },
    "papermill": {
     "duration": 0.537268,
     "end_time": "2023-11-22T13:56:30.215916",
     "exception": false,
     "start_time": "2023-11-22T13:56:29.678648",
     "status": "completed"
    },
    "tags": []
   },
   "outputs": [
    {
     "data": {
      "text/plain": [
       "<seaborn.axisgrid.FacetGrid at 0x7e8f4b43aec0>"
      ]
     },
     "execution_count": 14,
     "metadata": {},
     "output_type": "execute_result"
    },
    {
     "data": {
      "image/png": "[encoded data removed]",
      "text/plain": [
       "<Figure size 500x500 with 1 Axes>"
      ]
     },
     "metadata": {},
     "output_type": "display_data"
    }
   ],
   "source": [
    "sns.displot(df['Na_to_K'], kde=True,color = 'blue')"
   ]
  },
  {
   "cell_type": "code",
   "execution_count": 15,
   "id": "20463200",
   "metadata": {
    "execution": {
     "iopub.execute_input": "2023-11-22T13:56:30.248553Z",
     "iopub.status.busy": "2023-11-22T13:56:30.248126Z",
     "iopub.status.idle": "2023-11-22T13:56:30.572643Z",
     "shell.execute_reply": "2023-11-22T13:56:30.571538Z"
    },
    "papermill": {
     "duration": 0.343756,
     "end_time": "2023-11-22T13:56:30.575168",
     "exception": false,
     "start_time": "2023-11-22T13:56:30.231412",
     "status": "completed"
    },
    "tags": []
   },
   "outputs": [
    {
     "data": {
      "image/png": "[encoded data removed]",
      "text/plain": [
       "<Figure size 640x480 with 1 Axes>"
      ]
     },
     "metadata": {},
     "output_type": "display_data"
    }
   ],
   "source": [
    "sns.set_theme(style=\"darkgrid\")\n",
    "sns.countplot(y='Drug',data=df, palette='rocket')\n",
    "plt.ylabel('Drug Type')\n",
    "plt.show()"
   ]
  },
  {
   "cell_type": "code",
   "execution_count": 16,
   "id": "207ebf6e",
   "metadata": {
    "execution": {
     "iopub.execute_input": "2023-11-22T13:56:30.608699Z",
     "iopub.status.busy": "2023-11-22T13:56:30.608254Z",
     "iopub.status.idle": "2023-11-22T13:56:30.788355Z",
     "shell.execute_reply": "2023-11-22T13:56:30.787186Z"
    },
    "papermill": {
     "duration": 0.199657,
     "end_time": "2023-11-22T13:56:30.790925",
     "exception": false,
     "start_time": "2023-11-22T13:56:30.591268",
     "status": "completed"
    },
    "tags": []
   },
   "outputs": [
    {
     "data": {
      "image/png": "[encoded data removed]",
      "text/plain": [
       "<Figure size 640x480 with 1 Axes>"
      ]
     },
     "metadata": {},
     "output_type": "display_data"
    }
   ],
   "source": [
    "sns.set_theme(style=\"darkgrid\")\n",
    "sns.countplot(x='Sex',data=df, palette='rocket',width=.5)\n",
    "plt.xlabel('Gender')\n",
    "plt.ylabel('Total')\n",
    "plt.show()"
   ]
  },
  {
   "cell_type": "code",
   "execution_count": 17,
   "id": "fcdcae49",
   "metadata": {
    "execution": {
     "iopub.execute_input": "2023-11-22T13:56:30.825028Z",
     "iopub.status.busy": "2023-11-22T13:56:30.824625Z",
     "iopub.status.idle": "2023-11-22T13:56:31.169403Z",
     "shell.execute_reply": "2023-11-22T13:56:31.168135Z"
    },
    "papermill": {
     "duration": 0.364811,
     "end_time": "2023-11-22T13:56:31.172007",
     "exception": false,
     "start_time": "2023-11-22T13:56:30.807196",
     "status": "completed"
    },
    "tags": []
   },
   "outputs": [
    {
     "data": {
      "image/png": "[encoded data removed]",
      "text/plain": [
       "<Figure size 640x480 with 1 Axes>"
      ]
     },
     "metadata": {},
     "output_type": "display_data"
    }
   ],
   "source": [
    "sns.set_theme(style=\"darkgrid\")\n",
    "sns.countplot(y='BP',data=df, palette='crest',width=.7)\n",
    "plt.ylabel('Blood Pressure')\n",
    "plt.xlabel('Total')\n",
    "plt.show()"
   ]
  },
  {
   "cell_type": "markdown",
   "id": "57345f4a",
   "metadata": {
    "papermill": {
     "duration": 0.017035,
     "end_time": "2023-11-22T13:56:31.206288",
     "exception": false,
     "start_time": "2023-11-22T13:56:31.189253",
     "status": "completed"
    },
    "tags": []
   },
   "source": [
    "Cholesterol Distribution"
   ]
  },
  {
   "cell_type": "code",
   "execution_count": 18,
   "id": "b31ef7d9",
   "metadata": {
    "execution": {
     "iopub.execute_input": "2023-11-22T13:56:31.304067Z",
     "iopub.status.busy": "2023-11-22T13:56:31.303653Z",
     "iopub.status.idle": "2023-11-22T13:56:31.609513Z",
     "shell.execute_reply": "2023-11-22T13:56:31.608347Z"
    },
    "papermill": {
     "duration": 0.327177,
     "end_time": "2023-11-22T13:56:31.612243",
     "exception": false,
     "start_time": "2023-11-22T13:56:31.285066",
     "status": "completed"
    },
    "tags": []
   },
   "outputs": [
    {
     "data": {
      "image/png": "[encoded data removed]",
      "text/plain": [
       "<Figure size 640x480 with 1 Axes>"
      ]
     },
     "metadata": {},
     "output_type": "display_data"
    }
   ],
   "source": [
    "sns.set_theme(style=\"darkgrid\")\n",
    "sns.countplot(y='Cholesterol',data=df, palette='crest',width=.7)\n",
    "plt.ylabel('Cholesterol')\n",
    "plt.xlabel('Total')\n",
    "plt.show()"
   ]
  },
  {
   "cell_type": "code",
   "execution_count": 19,
   "id": "e04354e2",
   "metadata": {
    "execution": {
     "iopub.execute_input": "2023-11-22T13:56:31.650041Z",
     "iopub.status.busy": "2023-11-22T13:56:31.649626Z",
     "iopub.status.idle": "2023-11-22T13:56:32.058707Z",
     "shell.execute_reply": "2023-11-22T13:56:32.057451Z"
    },
    "papermill": {
     "duration": 0.43182,
     "end_time": "2023-11-22T13:56:32.061548",
     "exception": false,
     "start_time": "2023-11-22T13:56:31.629728",
     "status": "completed"
    },
    "tags": []
   },
   "outputs": [
    {
     "data": {
      "text/plain": [
       "Text(0, 0.5, 'Frequency')"
      ]
     },
     "execution_count": 19,
     "metadata": {},
     "output_type": "execute_result"
    },
    {
     "data": {
      "image/png": "[encoded data removed]",
      "text/plain": [
       "<Figure size 640x480 with 1 Axes>"
      ]
     },
     "metadata": {},
     "output_type": "display_data"
    }
   ],
   "source": [
    "sns.countplot(x=\"Sex\", hue=\"Drug\", data=df, palette=\"magma\")\n",
    "plt.title('Gender distribution based on Drug type')\n",
    "plt.xlabel('Gender')\n",
    "plt.xticks(rotation=0)\n",
    "plt.ylabel('Frequency')"
   ]
  },
  {
   "cell_type": "code",
   "execution_count": 20,
   "id": "64f8542c",
   "metadata": {
    "execution": {
     "iopub.execute_input": "2023-11-22T13:56:32.099135Z",
     "iopub.status.busy": "2023-11-22T13:56:32.098672Z",
     "iopub.status.idle": "2023-11-22T13:56:32.110439Z",
     "shell.execute_reply": "2023-11-22T13:56:32.109261Z"
    },
    "papermill": {
     "duration": 0.033913,
     "end_time": "2023-11-22T13:56:32.113049",
     "exception": false,
     "start_time": "2023-11-22T13:56:32.079136",
     "status": "completed"
    },
    "tags": []
   },
   "outputs": [],
   "source": [
    "age_bins = [0, 19, 29, 39, 49, 59, 69, 79]\n",
    "category_bins = ['<20', '20', '30', '40','50', '60', '>70']\n",
    "df['Age binned'] = pd.cut(df['Age'], bins=age_bins, labels=category_bins)\n",
    "df.drop('Age',axis=1, inplace=True)"
   ]
  },
  {
   "cell_type": "code",
   "execution_count": 21,
   "id": "750b6b35",
   "metadata": {
    "execution": {
     "iopub.execute_input": "2023-11-22T13:56:32.151012Z",
     "iopub.status.busy": "2023-11-22T13:56:32.150370Z",
     "iopub.status.idle": "2023-11-22T13:56:32.163589Z",
     "shell.execute_reply": "2023-11-22T13:56:32.162721Z"
    },
    "papermill": {
     "duration": 0.034972,
     "end_time": "2023-11-22T13:56:32.165847",
     "exception": false,
     "start_time": "2023-11-22T13:56:32.130875",
     "status": "completed"
    },
    "tags": []
   },
   "outputs": [
    {
     "data": {
      "text/html": [
       "<div>\n",
       "<style scoped>\n",
       "    .dataframe tbody tr th:only-of-type {\n",
       "        vertical-align: middle;\n",
       "    }\n",
       "\n",
       "    .dataframe tbody tr th {\n",
       "        vertical-align: top;\n",
       "    }\n",
       "\n",
       "    .dataframe thead th {\n",
       "        text-align: right;\n",
       "    }\n",
       "</style>\n",
       "<table border=\"1\" class=\"dataframe\">\n",
       "  <thead>\n",
       "    <tr style=\"text-align: right;\">\n",
       "      <th></th>\n",
       "      <th>Sex</th>\n",
       "      <th>BP</th>\n",
       "      <th>Cholesterol</th>\n",
       "      <th>Na_to_K</th>\n",
       "      <th>Drug</th>\n",
       "      <th>Age binned</th>\n",
       "    </tr>\n",
       "  </thead>\n",
       "  <tbody>\n",
       "    <tr>\n",
       "      <th>0</th>\n",
       "      <td>Female</td>\n",
       "      <td>HIGH</td>\n",
       "      <td>HIGH</td>\n",
       "      <td>25.355</td>\n",
       "      <td>DrugY</td>\n",
       "      <td>20</td>\n",
       "    </tr>\n",
       "    <tr>\n",
       "      <th>1</th>\n",
       "      <td>Male</td>\n",
       "      <td>LOW</td>\n",
       "      <td>HIGH</td>\n",
       "      <td>13.093</td>\n",
       "      <td>drugC</td>\n",
       "      <td>40</td>\n",
       "    </tr>\n",
       "    <tr>\n",
       "      <th>2</th>\n",
       "      <td>Male</td>\n",
       "      <td>LOW</td>\n",
       "      <td>HIGH</td>\n",
       "      <td>10.114</td>\n",
       "      <td>drugC</td>\n",
       "      <td>40</td>\n",
       "    </tr>\n",
       "    <tr>\n",
       "      <th>3</th>\n",
       "      <td>Female</td>\n",
       "      <td>NORMAL</td>\n",
       "      <td>HIGH</td>\n",
       "      <td>7.798</td>\n",
       "      <td>drugX</td>\n",
       "      <td>20</td>\n",
       "    </tr>\n",
       "    <tr>\n",
       "      <th>4</th>\n",
       "      <td>Female</td>\n",
       "      <td>LOW</td>\n",
       "      <td>HIGH</td>\n",
       "      <td>18.043</td>\n",
       "      <td>DrugY</td>\n",
       "      <td>60</td>\n",
       "    </tr>\n",
       "  </tbody>\n",
       "</table>\n",
       "</div>"
      ],
      "text/plain": [
       "      Sex      BP Cholesterol  Na_to_K   Drug Age binned\n",
       "0  Female    HIGH        HIGH   25.355  DrugY         20\n",
       "1    Male     LOW        HIGH   13.093  drugC         40\n",
       "2    Male     LOW        HIGH   10.114  drugC         40\n",
       "3  Female  NORMAL        HIGH    7.798  drugX         20\n",
       "4  Female     LOW        HIGH   18.043  DrugY         60"
      ]
     },
     "execution_count": 21,
     "metadata": {},
     "output_type": "execute_result"
    }
   ],
   "source": [
    "df.head(5)"
   ]
  },
  {
   "cell_type": "markdown",
   "id": "d3028ac3",
   "metadata": {
    "papermill": {
     "duration": 0.017834,
     "end_time": "2023-11-22T13:56:32.201655",
     "exception": false,
     "start_time": "2023-11-22T13:56:32.183821",
     "status": "completed"
    },
    "tags": []
   },
   "source": [
    "6.1.2 Na_to_K 🧪\n",
    "👉 The chemical ratio will be divided into 4 categories:\n",
    "\n",
    "Below 10.\n",
    "10 - 20.\n",
    "20 - 30.\n",
    "Above 30."
   ]
  },
  {
   "cell_type": "code",
   "execution_count": 22,
   "id": "00f0864f",
   "metadata": {
    "execution": {
     "iopub.execute_input": "2023-11-22T13:56:32.239928Z",
     "iopub.status.busy": "2023-11-22T13:56:32.239324Z",
     "iopub.status.idle": "2023-11-22T13:56:32.247645Z",
     "shell.execute_reply": "2023-11-22T13:56:32.246583Z"
    },
    "papermill": {
     "duration": 0.030404,
     "end_time": "2023-11-22T13:56:32.250168",
     "exception": false,
     "start_time": "2023-11-22T13:56:32.219764",
     "status": "completed"
    },
    "tags": []
   },
   "outputs": [],
   "source": [
    "Na_bins = [0, 9, 19, 29, 50]\n",
    "category_Na_bins = ['<10', '10-20', '20-30', '>30']\n",
    "df['Na_to_K_binned'] = pd.cut(df['Na_to_K'], bins=Na_bins, labels=category_Na_bins)\n",
    "df.drop('Na_to_K',axis=1, inplace=True)"
   ]
  },
  {
   "cell_type": "code",
   "execution_count": 23,
   "id": "96cba961",
   "metadata": {
    "execution": {
     "iopub.execute_input": "2023-11-22T13:56:32.290029Z",
     "iopub.status.busy": "2023-11-22T13:56:32.289608Z",
     "iopub.status.idle": "2023-11-22T13:56:32.607807Z",
     "shell.execute_reply": "2023-11-22T13:56:32.606586Z"
    },
    "papermill": {
     "duration": 0.341504,
     "end_time": "2023-11-22T13:56:32.610867",
     "exception": false,
     "start_time": "2023-11-22T13:56:32.269363",
     "status": "completed"
    },
    "tags": []
   },
   "outputs": [],
   "source": [
    "from sklearn.metrics import confusion_matrix\n",
    "from sklearn.metrics import classification_report, accuracy_score"
   ]
  },
  {
   "cell_type": "code",
   "execution_count": 24,
   "id": "42bb66e4",
   "metadata": {
    "execution": {
     "iopub.execute_input": "2023-11-22T13:56:32.649969Z",
     "iopub.status.busy": "2023-11-22T13:56:32.649541Z",
     "iopub.status.idle": "2023-11-22T13:56:32.656388Z",
     "shell.execute_reply": "2023-11-22T13:56:32.655152Z"
    },
    "papermill": {
     "duration": 0.029012,
     "end_time": "2023-11-22T13:56:32.658775",
     "exception": false,
     "start_time": "2023-11-22T13:56:32.629763",
     "status": "completed"
    },
    "tags": []
   },
   "outputs": [],
   "source": [
    "X = df.drop('Drug', axis=1)\n",
    "y = df['Drug']"
   ]
  },
  {
   "cell_type": "code",
   "execution_count": 25,
   "id": "287d9bc4",
   "metadata": {
    "execution": {
     "iopub.execute_input": "2023-11-22T13:56:32.703978Z",
     "iopub.status.busy": "2023-11-22T13:56:32.703512Z",
     "iopub.status.idle": "2023-11-22T13:56:32.731566Z",
     "shell.execute_reply": "2023-11-22T13:56:32.730226Z"
    },
    "papermill": {
     "duration": 0.054226,
     "end_time": "2023-11-22T13:56:32.735260",
     "exception": false,
     "start_time": "2023-11-22T13:56:32.681034",
     "status": "completed"
    },
    "tags": []
   },
   "outputs": [],
   "source": [
    "from sklearn.model_selection import train_test_split\n",
    "X_train, X_test, y_train, y_test = train_test_split(X, y, test_size=.2, random_state=42)"
   ]
  },
  {
   "cell_type": "code",
   "execution_count": 26,
   "id": "2a63bd2d",
   "metadata": {
    "execution": {
     "iopub.execute_input": "2023-11-22T13:56:32.783822Z",
     "iopub.status.busy": "2023-11-22T13:56:32.783396Z",
     "iopub.status.idle": "2023-11-22T13:56:32.798870Z",
     "shell.execute_reply": "2023-11-22T13:56:32.797595Z"
    },
    "papermill": {
     "duration": 0.044422,
     "end_time": "2023-11-22T13:56:32.801854",
     "exception": false,
     "start_time": "2023-11-22T13:56:32.757432",
     "status": "completed"
    },
    "tags": []
   },
   "outputs": [],
   "source": [
    "X_train = pd.get_dummies(X_train)\n",
    "X_test = pd.get_dummies(X_test)"
   ]
  },
  {
   "cell_type": "code",
   "execution_count": 27,
   "id": "bbeab840",
   "metadata": {
    "execution": {
     "iopub.execute_input": "2023-11-22T13:56:32.840335Z",
     "iopub.status.busy": "2023-11-22T13:56:32.839896Z",
     "iopub.status.idle": "2023-11-22T13:56:32.969818Z",
     "shell.execute_reply": "2023-11-22T13:56:32.968484Z"
    },
    "papermill": {
     "duration": 0.152316,
     "end_time": "2023-11-22T13:56:32.972560",
     "exception": false,
     "start_time": "2023-11-22T13:56:32.820244",
     "status": "completed"
    },
    "tags": []
   },
   "outputs": [
    {
     "name": "stdout",
     "output_type": "stream",
     "text": [
      "              precision    recall  f1-score   support\n",
      "\n",
      "       DrugY       0.82      0.93      0.87        15\n",
      "       drugA       1.00      0.83      0.91         6\n",
      "       drugB       0.75      1.00      0.86         3\n",
      "       drugC       1.00      0.60      0.75         5\n",
      "       drugX       1.00      1.00      1.00        11\n",
      "\n",
      "    accuracy                           0.90        40\n",
      "   macro avg       0.91      0.87      0.88        40\n",
      "weighted avg       0.92      0.90      0.90        40\n",
      "\n",
      "[[14  0  1  0  0]\n",
      " [ 1  5  0  0  0]\n",
      " [ 0  0  3  0  0]\n",
      " [ 2  0  0  3  0]\n",
      " [ 0  0  0  0 11]]\n",
      "LogisticRegression accuracy is:  90.00%\n"
     ]
    }
   ],
   "source": [
    "from sklearn.linear_model import LogisticRegression\n",
    "log_clf = LogisticRegression(solver='liblinear', max_iter=5000)\n",
    "y_pred = log_clf.fit(X_train, y_train).predict(X_test)\n",
    "\n",
    "print(classification_report(y_test, y_pred))\n",
    "print(confusion_matrix(y_test, y_pred))\n",
    "print(type(log_clf).__name__,'accuracy is:  {:.2f}%'.format(accuracy_score(y_test, y_pred)*100))\n",
    "\n"
   ]
  },
  {
   "cell_type": "code",
   "execution_count": 28,
   "id": "e5f1007b",
   "metadata": {
    "execution": {
     "iopub.execute_input": "2023-11-22T13:56:33.011160Z",
     "iopub.status.busy": "2023-11-22T13:56:33.010483Z",
     "iopub.status.idle": "2023-11-22T13:56:33.047541Z",
     "shell.execute_reply": "2023-11-22T13:56:33.046307Z"
    },
    "papermill": {
     "duration": 0.060011,
     "end_time": "2023-11-22T13:56:33.050722",
     "exception": false,
     "start_time": "2023-11-22T13:56:32.990711",
     "status": "completed"
    },
    "tags": []
   },
   "outputs": [
    {
     "name": "stdout",
     "output_type": "stream",
     "text": [
      "              precision    recall  f1-score   support\n",
      "\n",
      "       DrugY       0.81      0.87      0.84        15\n",
      "       drugA       1.00      0.83      0.91         6\n",
      "       drugB       0.75      1.00      0.86         3\n",
      "       drugC       0.75      0.60      0.67         5\n",
      "       drugX       1.00      1.00      1.00        11\n",
      "\n",
      "    accuracy                           0.88        40\n",
      "   macro avg       0.86      0.86      0.85        40\n",
      "weighted avg       0.88      0.88      0.87        40\n",
      "\n",
      "[[13  0  1  1  0]\n",
      " [ 1  5  0  0  0]\n",
      " [ 0  0  3  0  0]\n",
      " [ 2  0  0  3  0]\n",
      " [ 0  0  0  0 11]]\n",
      "SVC accuracy is:  87.50%\n"
     ]
    }
   ],
   "source": [
    "from sklearn.svm import SVC\n",
    "SVC_clf = SVC(kernel='linear', max_iter=150)\n",
    "y_pred = SVC_clf.fit(X_train, y_train).predict(X_test)\n",
    "\n",
    "print(classification_report(y_test, y_pred))\n",
    "print(confusion_matrix(y_test, y_pred))\n",
    "print(type(SVC_clf).__name__,'accuracy is:  {:.2f}%'.format(accuracy_score(y_test, y_pred)*100))\n",
    "\n"
   ]
  },
  {
   "cell_type": "code",
   "execution_count": 29,
   "id": "87448fee",
   "metadata": {
    "execution": {
     "iopub.execute_input": "2023-11-22T13:56:33.093688Z",
     "iopub.status.busy": "2023-11-22T13:56:33.093042Z",
     "iopub.status.idle": "2023-11-22T13:56:33.125469Z",
     "shell.execute_reply": "2023-11-22T13:56:33.124296Z"
    },
    "papermill": {
     "duration": 0.056995,
     "end_time": "2023-11-22T13:56:33.128231",
     "exception": false,
     "start_time": "2023-11-22T13:56:33.071236",
     "status": "completed"
    },
    "tags": []
   },
   "outputs": [
    {
     "name": "stdout",
     "output_type": "stream",
     "text": [
      "              precision    recall  f1-score   support\n",
      "\n",
      "       DrugY       0.80      0.80      0.80        15\n",
      "       drugA       0.83      0.83      0.83         6\n",
      "       drugB       0.75      1.00      0.86         3\n",
      "       drugC       0.80      0.80      0.80         5\n",
      "       drugX       1.00      0.91      0.95        11\n",
      "\n",
      "    accuracy                           0.85        40\n",
      "   macro avg       0.84      0.87      0.85        40\n",
      "weighted avg       0.86      0.85      0.85        40\n",
      "\n",
      "[[12  1  1  1  0]\n",
      " [ 1  5  0  0  0]\n",
      " [ 0  0  3  0  0]\n",
      " [ 1  0  0  4  0]\n",
      " [ 1  0  0  0 10]]\n",
      "CategoricalNB accuracy is:  85.00%\n"
     ]
    }
   ],
   "source": [
    "from sklearn.naive_bayes import CategoricalNB\n",
    "NB_clf = CategoricalNB()\n",
    "y_pred = NB_clf.fit(X_train, y_train).predict(X_test)\n",
    "\n",
    "print(classification_report(y_test, y_pred))\n",
    "print(confusion_matrix(y_test, y_pred))\n",
    "print(type(NB_clf).__name__,'accuracy is:  {:.2f}%'.format(accuracy_score(y_test, y_pred)*100))"
   ]
  },
  {
   "cell_type": "code",
   "execution_count": 30,
   "id": "a6a8c4d8",
   "metadata": {
    "execution": {
     "iopub.execute_input": "2023-11-22T13:56:33.168061Z",
     "iopub.status.busy": "2023-11-22T13:56:33.167647Z",
     "iopub.status.idle": "2023-11-22T13:56:33.192009Z",
     "shell.execute_reply": "2023-11-22T13:56:33.190600Z"
    },
    "papermill": {
     "duration": 0.047964,
     "end_time": "2023-11-22T13:56:33.194715",
     "exception": false,
     "start_time": "2023-11-22T13:56:33.146751",
     "status": "completed"
    },
    "tags": []
   },
   "outputs": [
    {
     "name": "stdout",
     "output_type": "stream",
     "text": [
      "              precision    recall  f1-score   support\n",
      "\n",
      "       DrugY       0.93      0.87      0.90        15\n",
      "       drugA       1.00      0.83      0.91         6\n",
      "       drugB       0.75      1.00      0.86         3\n",
      "       drugC       1.00      0.80      0.89         5\n",
      "       drugX       0.85      1.00      0.92        11\n",
      "\n",
      "    accuracy                           0.90        40\n",
      "   macro avg       0.90      0.90      0.89        40\n",
      "weighted avg       0.91      0.90      0.90        40\n",
      "\n",
      "[[13  0  1  0  1]\n",
      " [ 1  5  0  0  0]\n",
      " [ 0  0  3  0  0]\n",
      " [ 0  0  0  4  1]\n",
      " [ 0  0  0  0 11]]\n",
      "GaussianNB accuracy is:  90.00%\n"
     ]
    }
   ],
   "source": [
    "from sklearn.naive_bayes import GaussianNB\n",
    "Gaussian_clf = GaussianNB()\n",
    "y_pred = Gaussian_clf.fit(X_train, y_train).predict(X_test)\n",
    "\n",
    "print(classification_report(y_test, y_pred))\n",
    "print(confusion_matrix(y_test, y_pred))\n",
    "print(type(Gaussian_clf).__name__,'accuracy is:  {:.2f}%'.format(accuracy_score(y_test, y_pred)*100))"
   ]
  },
  {
   "cell_type": "code",
   "execution_count": 31,
   "id": "f616131f",
   "metadata": {
    "execution": {
     "iopub.execute_input": "2023-11-22T13:56:33.233387Z",
     "iopub.status.busy": "2023-11-22T13:56:33.232929Z",
     "iopub.status.idle": "2023-11-22T13:56:33.356045Z",
     "shell.execute_reply": "2023-11-22T13:56:33.354633Z"
    },
    "papermill": {
     "duration": 0.145473,
     "end_time": "2023-11-22T13:56:33.358622",
     "exception": false,
     "start_time": "2023-11-22T13:56:33.213149",
     "status": "completed"
    },
    "tags": []
   },
   "outputs": [
    {
     "name": "stdout",
     "output_type": "stream",
     "text": [
      "              precision    recall  f1-score   support\n",
      "\n",
      "       DrugY       0.93      0.87      0.90        15\n",
      "       drugA       1.00      0.83      0.91         6\n",
      "       drugB       0.75      1.00      0.86         3\n",
      "       drugC       0.83      1.00      0.91         5\n",
      "       drugX       1.00      1.00      1.00        11\n",
      "\n",
      "    accuracy                           0.93        40\n",
      "   macro avg       0.90      0.94      0.91        40\n",
      "weighted avg       0.93      0.93      0.93        40\n",
      "\n",
      "[[13  0  1  1  0]\n",
      " [ 1  5  0  0  0]\n",
      " [ 0  0  3  0  0]\n",
      " [ 0  0  0  5  0]\n",
      " [ 0  0  0  0 11]]\n",
      "DecisionTreeClassifier accuracy is:  92.50%\n"
     ]
    }
   ],
   "source": [
    "from sklearn.tree import DecisionTreeClassifier\n",
    "tree_clf = DecisionTreeClassifier(max_leaf_nodes=20)\n",
    "y_pred = tree_clf.fit(X_train, y_train).predict(X_test)\n",
    "\n",
    "print(classification_report(y_test, y_pred))\n",
    "print(confusion_matrix(y_test, y_pred))\n",
    "print(type(tree_clf).__name__,'accuracy is:  {:.2f}%'.format(accuracy_score(y_test, y_pred)*100))"
   ]
  },
  {
   "cell_type": "code",
   "execution_count": 32,
   "id": "66bb0f46",
   "metadata": {
    "execution": {
     "iopub.execute_input": "2023-11-22T13:56:33.398379Z",
     "iopub.status.busy": "2023-11-22T13:56:33.397829Z",
     "iopub.status.idle": "2023-11-22T13:56:34.012828Z",
     "shell.execute_reply": "2023-11-22T13:56:34.012004Z"
    },
    "papermill": {
     "duration": 0.638585,
     "end_time": "2023-11-22T13:56:34.016227",
     "exception": false,
     "start_time": "2023-11-22T13:56:33.377642",
     "status": "completed"
    },
    "tags": []
   },
   "outputs": [
    {
     "data": {
      "image/png": "[encoded data removed]",
      "text/plain": [
       "<Figure size 640x480 with 1 Axes>"
      ]
     },
     "metadata": {},
     "output_type": "display_data"
    },
    {
     "name": "stdout",
     "output_type": "stream",
     "text": [
      "DT Acc Max 95.00%\n"
     ]
    }
   ],
   "source": [
    "scoreListDT = []\n",
    "for i in range(2,50):\n",
    "    DTclassifier = DecisionTreeClassifier(max_leaf_nodes=i)\n",
    "    DTclassifier.fit(X_train, y_train)\n",
    "    scoreListDT.append(DTclassifier.score(X_test, y_test))\n",
    "    \n",
    "plt.plot(range(2,50), scoreListDT)\n",
    "plt.xticks(np.arange(2,50,5))\n",
    "plt.xlabel(\"Leaf\")\n",
    "plt.ylabel(\"Score\")\n",
    "plt.show()\n",
    "DTAccMax = max(scoreListDT)\n",
    "print(\"DT Acc Max {:.2f}%\".format(DTAccMax*100))"
   ]
  },
  {
   "cell_type": "code",
   "execution_count": 33,
   "id": "39d38ac7",
   "metadata": {
    "execution": {
     "iopub.execute_input": "2023-11-22T13:56:34.058434Z",
     "iopub.status.busy": "2023-11-22T13:56:34.057405Z",
     "iopub.status.idle": "2023-11-22T13:56:34.373458Z",
     "shell.execute_reply": "2023-11-22T13:56:34.371969Z"
    },
    "papermill": {
     "duration": 0.339909,
     "end_time": "2023-11-22T13:56:34.376201",
     "exception": false,
     "start_time": "2023-11-22T13:56:34.036292",
     "status": "completed"
    },
    "tags": []
   },
   "outputs": [
    {
     "name": "stdout",
     "output_type": "stream",
     "text": [
      "              precision    recall  f1-score   support\n",
      "\n",
      "       DrugY       0.82      0.93      0.87        15\n",
      "       drugA       1.00      0.83      0.91         6\n",
      "       drugB       0.75      1.00      0.86         3\n",
      "       drugC       1.00      0.60      0.75         5\n",
      "       drugX       1.00      1.00      1.00        11\n",
      "\n",
      "    accuracy                           0.90        40\n",
      "   macro avg       0.91      0.87      0.88        40\n",
      "weighted avg       0.92      0.90      0.90        40\n",
      "\n",
      "[[14  0  1  0  0]\n",
      " [ 1  5  0  0  0]\n",
      " [ 0  0  3  0  0]\n",
      " [ 2  0  0  3  0]\n",
      " [ 0  0  0  0 11]]\n",
      "RandomForestClassifier accuracy is:  90.00%\n"
     ]
    }
   ],
   "source": [
    "from sklearn.ensemble import RandomForestClassifier\n",
    "\n",
    "forest_clf = RandomForestClassifier(max_leaf_nodes=30)\n",
    "y_pred = forest_clf.fit(X_train, y_train).predict(X_test)\n",
    "\n",
    "print(classification_report(y_test, y_pred))\n",
    "print(confusion_matrix(y_test, y_pred))\n",
    "print(type(forest_clf).__name__,'accuracy is:  {:.2f}%'.format(accuracy_score(y_test, y_pred)*100))"
   ]
  },
  {
   "cell_type": "code",
   "execution_count": null,
   "id": "fce2b2b3",
   "metadata": {
    "papermill": {
     "duration": 0.019872,
     "end_time": "2023-11-22T13:56:34.415996",
     "exception": false,
     "start_time": "2023-11-22T13:56:34.396124",
     "status": "completed"
    },
    "tags": []
   },
   "outputs": [],
   "source": []
  }
 ],
 "metadata": {
  "kaggle": {
   "accelerator": "none",
   "dataSources": [
    {
     "datasetId": 830916,
     "sourceId": 1419436,
     "sourceType": "datasetVersion"
    }
   ],
   "dockerImageVersionId": 30587,
   "isGpuEnabled": false,
   "isInternetEnabled": true,
   "language": "python",
   "sourceType": "notebook"
  },
  "kernelspec": {
   "display_name": "Python 3",
   "language": "python",
   "name": "python3"
  },
  "language_info": {
   "codemirror_mode": {
    "name": "ipython",
    "version": 3
   },
   "file_extension": ".py",
   "mimetype": "text/x-python",
   "name": "python",
   "nbconvert_exporter": "python",
   "pygments_lexer": "ipython3",
   "version": "3.10.12"
  },
  "papermill": {
   "default_parameters": {},
   "duration": 12.11777,
   "end_time": "2023-11-22T13:56:35.157977",
   "environment_variables": {},
   "exception": null,
   "input_path": "__notebook__.ipynb",
   "output_path": "__notebook__.ipynb",
   "parameters": {},
   "start_time": "2023-11-22T13:56:23.040207",
   "version": "2.4.0"
  }
 },
 "nbformat": 4,
 "nbformat_minor": 5
}
