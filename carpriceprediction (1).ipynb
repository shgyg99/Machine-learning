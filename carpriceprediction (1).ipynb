{
 "cells": [
  {
   "cell_type": "code",
   "execution_count": 1,
   "id": "1ebb7788",
   "metadata": {
    "_cell_guid": "b1076dfc-b9ad-4769-8c92-a6c4dae69d19",
    "_uuid": "8f2839f25d086af736a60e9eeb907d3b93b6e0e5",
    "execution": {
     "iopub.execute_input": "2024-01-30T07:31:12.464656Z",
     "iopub.status.busy": "2024-01-30T07:31:12.464253Z",
     "iopub.status.idle": "2024-01-30T07:31:13.479368Z",
     "shell.execute_reply": "2024-01-30T07:31:13.478154Z"
    },
    "papermill": {
     "duration": 1.03156,
     "end_time": "2024-01-30T07:31:13.482525",
     "exception": false,
     "start_time": "2024-01-30T07:31:12.450965",
     "status": "completed"
    },
    "tags": []
   },
   "outputs": [
    {
     "name": "stdout",
     "output_type": "stream",
     "text": [
      "/kaggle/input/autoam-car-price-prediction/sample_submission.csv\n",
      "/kaggle/input/autoam-car-price-prediction/train.csv\n",
      "/kaggle/input/autoam-car-price-prediction/test.csv\n"
     ]
    }
   ],
   "source": [
    "# This Python 3 environment comes with many helpful analytics libraries installed\n",
    "# It is defined by the kaggle/python Docker image: https://github.com/kaggle/docker-python\n",
    "# For example, here's several helpful packages to load\n",
    "\n",
    "import numpy as np # linear algebra\n",
    "import pandas as pd # data processing, CSV file I/O (e.g. pd.read_csv)\n",
    "\n",
    "# Input data files are available in the read-only \"../input/\" directory\n",
    "# For example, running this (by clicking run or pressing Shift+Enter) will list all files under the input directory\n",
    "\n",
    "import os\n",
    "for dirname, _, filenames in os.walk('/kaggle/input'):\n",
    "    for filename in filenames:\n",
    "        print(os.path.join(dirname, filename))\n",
    "\n",
    "# You can write up to 20GB to the current directory (/kaggle/working/) that gets preserved as output when you create a version using \"Save & Run All\" \n",
    "# You can also write temporary files to /kaggle/temp/, but they won't be saved outside of the current session"
   ]
  },
  {
   "cell_type": "code",
   "execution_count": 2,
   "id": "ed6a8a1d",
   "metadata": {
    "execution": {
     "iopub.execute_input": "2024-01-30T07:31:13.510007Z",
     "iopub.status.busy": "2024-01-30T07:31:13.509224Z",
     "iopub.status.idle": "2024-01-30T07:31:13.543330Z",
     "shell.execute_reply": "2024-01-30T07:31:13.542342Z"
    },
    "papermill": {
     "duration": 0.050947,
     "end_time": "2024-01-30T07:31:13.545937",
     "exception": false,
     "start_time": "2024-01-30T07:31:13.494990",
     "status": "completed"
    },
    "tags": []
   },
   "outputs": [],
   "source": [
    "#upload the train.csv file as train_data\n",
    "train_data = pd.read_csv('/kaggle/input/autoam-car-price-prediction/train.csv')\n",
    "X_test = pd.read_csv('/kaggle/input/autoam-car-price-prediction/test.csv')"
   ]
  },
  {
   "cell_type": "code",
   "execution_count": 3,
   "id": "301bbf49",
   "metadata": {
    "execution": {
     "iopub.execute_input": "2024-01-30T07:31:13.572270Z",
     "iopub.status.busy": "2024-01-30T07:31:13.571422Z",
     "iopub.status.idle": "2024-01-30T07:31:13.603467Z",
     "shell.execute_reply": "2024-01-30T07:31:13.602282Z"
    },
    "papermill": {
     "duration": 0.048099,
     "end_time": "2024-01-30T07:31:13.606153",
     "exception": false,
     "start_time": "2024-01-30T07:31:13.558054",
     "status": "completed"
    },
    "tags": []
   },
   "outputs": [
    {
     "data": {
      "text/html": [
       "<div>\n",
       "<style scoped>\n",
       "    .dataframe tbody tr th:only-of-type {\n",
       "        vertical-align: middle;\n",
       "    }\n",
       "\n",
       "    .dataframe tbody tr th {\n",
       "        vertical-align: top;\n",
       "    }\n",
       "\n",
       "    .dataframe thead th {\n",
       "        text-align: right;\n",
       "    }\n",
       "</style>\n",
       "<table border=\"1\" class=\"dataframe\">\n",
       "  <thead>\n",
       "    <tr style=\"text-align: right;\">\n",
       "      <th></th>\n",
       "      <th>model</th>\n",
       "      <th>year</th>\n",
       "      <th>motor_type</th>\n",
       "      <th>running</th>\n",
       "      <th>wheel</th>\n",
       "      <th>color</th>\n",
       "      <th>type</th>\n",
       "      <th>status</th>\n",
       "      <th>motor_volume</th>\n",
       "      <th>price</th>\n",
       "    </tr>\n",
       "  </thead>\n",
       "  <tbody>\n",
       "    <tr>\n",
       "      <th>0</th>\n",
       "      <td>toyota</td>\n",
       "      <td>2022</td>\n",
       "      <td>petrol</td>\n",
       "      <td>3000  km</td>\n",
       "      <td>left</td>\n",
       "      <td>skyblue</td>\n",
       "      <td>sedan</td>\n",
       "      <td>excellent</td>\n",
       "      <td>2.0</td>\n",
       "      <td>24500</td>\n",
       "    </tr>\n",
       "    <tr>\n",
       "      <th>1</th>\n",
       "      <td>mercedes-benz</td>\n",
       "      <td>2014</td>\n",
       "      <td>petrol</td>\n",
       "      <td>132000  km</td>\n",
       "      <td>left</td>\n",
       "      <td>black</td>\n",
       "      <td>sedan</td>\n",
       "      <td>excellent</td>\n",
       "      <td>2.0</td>\n",
       "      <td>25500</td>\n",
       "    </tr>\n",
       "    <tr>\n",
       "      <th>2</th>\n",
       "      <td>kia</td>\n",
       "      <td>2018</td>\n",
       "      <td>petrol</td>\n",
       "      <td>95000  miles</td>\n",
       "      <td>left</td>\n",
       "      <td>other</td>\n",
       "      <td>sedan</td>\n",
       "      <td>excellent</td>\n",
       "      <td>2.0</td>\n",
       "      <td>11700</td>\n",
       "    </tr>\n",
       "    <tr>\n",
       "      <th>3</th>\n",
       "      <td>mercedes-benz</td>\n",
       "      <td>2002</td>\n",
       "      <td>petrol</td>\n",
       "      <td>137000  miles</td>\n",
       "      <td>left</td>\n",
       "      <td>golden</td>\n",
       "      <td>sedan</td>\n",
       "      <td>excellent</td>\n",
       "      <td>3.2</td>\n",
       "      <td>12000</td>\n",
       "    </tr>\n",
       "    <tr>\n",
       "      <th>4</th>\n",
       "      <td>mercedes-benz</td>\n",
       "      <td>2017</td>\n",
       "      <td>petrol</td>\n",
       "      <td>130000  km</td>\n",
       "      <td>left</td>\n",
       "      <td>black</td>\n",
       "      <td>sedan</td>\n",
       "      <td>good</td>\n",
       "      <td>2.0</td>\n",
       "      <td>26000</td>\n",
       "    </tr>\n",
       "  </tbody>\n",
       "</table>\n",
       "</div>"
      ],
      "text/plain": [
       "           model  year motor_type        running wheel    color   type  \\\n",
       "0         toyota  2022     petrol       3000  km  left  skyblue  sedan   \n",
       "1  mercedes-benz  2014     petrol     132000  km  left    black  sedan   \n",
       "2            kia  2018     petrol   95000  miles  left    other  sedan   \n",
       "3  mercedes-benz  2002     petrol  137000  miles  left   golden  sedan   \n",
       "4  mercedes-benz  2017     petrol     130000  km  left    black  sedan   \n",
       "\n",
       "      status  motor_volume  price  \n",
       "0  excellent           2.0  24500  \n",
       "1  excellent           2.0  25500  \n",
       "2  excellent           2.0  11700  \n",
       "3  excellent           3.2  12000  \n",
       "4       good           2.0  26000  "
      ]
     },
     "execution_count": 3,
     "metadata": {},
     "output_type": "execute_result"
    }
   ],
   "source": [
    "train_data.head()"
   ]
  },
  {
   "cell_type": "code",
   "execution_count": 4,
   "id": "80943999",
   "metadata": {
    "execution": {
     "iopub.execute_input": "2024-01-30T07:31:13.631948Z",
     "iopub.status.busy": "2024-01-30T07:31:13.631067Z",
     "iopub.status.idle": "2024-01-30T07:31:13.662271Z",
     "shell.execute_reply": "2024-01-30T07:31:13.661105Z"
    },
    "papermill": {
     "duration": 0.047047,
     "end_time": "2024-01-30T07:31:13.665002",
     "exception": false,
     "start_time": "2024-01-30T07:31:13.617955",
     "status": "completed"
    },
    "tags": []
   },
   "outputs": [
    {
     "name": "stdout",
     "output_type": "stream",
     "text": [
      "<class 'pandas.core.frame.DataFrame'>\n",
      "RangeIndex: 1642 entries, 0 to 1641\n",
      "Data columns (total 10 columns):\n",
      " #   Column        Non-Null Count  Dtype  \n",
      "---  ------        --------------  -----  \n",
      " 0   model         1642 non-null   object \n",
      " 1   year          1642 non-null   int64  \n",
      " 2   motor_type    1642 non-null   object \n",
      " 3   running       1642 non-null   object \n",
      " 4   wheel         1642 non-null   object \n",
      " 5   color         1642 non-null   object \n",
      " 6   type          1642 non-null   object \n",
      " 7   status        1642 non-null   object \n",
      " 8   motor_volume  1642 non-null   float64\n",
      " 9   price         1642 non-null   int64  \n",
      "dtypes: float64(1), int64(2), object(7)\n",
      "memory usage: 128.4+ KB\n"
     ]
    }
   ],
   "source": [
    "train_data.info()"
   ]
  },
  {
   "cell_type": "code",
   "execution_count": 5,
   "id": "56015506",
   "metadata": {
    "execution": {
     "iopub.execute_input": "2024-01-30T07:31:13.690832Z",
     "iopub.status.busy": "2024-01-30T07:31:13.690213Z",
     "iopub.status.idle": "2024-01-30T07:31:13.702973Z",
     "shell.execute_reply": "2024-01-30T07:31:13.701863Z"
    },
    "papermill": {
     "duration": 0.0291,
     "end_time": "2024-01-30T07:31:13.705994",
     "exception": false,
     "start_time": "2024-01-30T07:31:13.676894",
     "status": "completed"
    },
    "tags": []
   },
   "outputs": [
    {
     "data": {
      "text/plain": [
       "9"
      ]
     },
     "execution_count": 5,
     "metadata": {},
     "output_type": "execute_result"
    }
   ],
   "source": [
    "train_data.duplicated().sum()"
   ]
  },
  {
   "cell_type": "code",
   "execution_count": 6,
   "id": "f835f703",
   "metadata": {
    "execution": {
     "iopub.execute_input": "2024-01-30T07:31:13.731893Z",
     "iopub.status.busy": "2024-01-30T07:31:13.731497Z",
     "iopub.status.idle": "2024-01-30T07:31:13.742280Z",
     "shell.execute_reply": "2024-01-30T07:31:13.741287Z"
    },
    "papermill": {
     "duration": 0.026456,
     "end_time": "2024-01-30T07:31:13.744878",
     "exception": false,
     "start_time": "2024-01-30T07:31:13.718422",
     "status": "completed"
    },
    "tags": []
   },
   "outputs": [],
   "source": [
    "train_data.drop_duplicates(inplace=True)"
   ]
  },
  {
   "cell_type": "code",
   "execution_count": 7,
   "id": "2568ebb8",
   "metadata": {
    "execution": {
     "iopub.execute_input": "2024-01-30T07:31:13.771701Z",
     "iopub.status.busy": "2024-01-30T07:31:13.770136Z",
     "iopub.status.idle": "2024-01-30T07:31:13.787498Z",
     "shell.execute_reply": "2024-01-30T07:31:13.786322Z"
    },
    "papermill": {
     "duration": 0.033912,
     "end_time": "2024-01-30T07:31:13.790752",
     "exception": false,
     "start_time": "2024-01-30T07:31:13.756840",
     "status": "completed"
    },
    "tags": []
   },
   "outputs": [
    {
     "name": "stdout",
     "output_type": "stream",
     "text": [
      "model\n",
      "mercedes-benz    401\n",
      "nissan           349\n",
      "hyundai          347\n",
      "kia              283\n",
      "toyota           253\n",
      "Name: count, dtype: int64\n",
      "------------------------------------\n",
      "motor_type\n",
      "petrol            1412\n",
      "gas                165\n",
      "petrol and gas      53\n",
      "diesel               2\n",
      "hybrid               1\n",
      "Name: count, dtype: int64\n",
      "------------------------------------\n",
      "running\n",
      "300000  km      19\n",
      "70000  miles    18\n",
      "120000  km      16\n",
      "65000  miles    15\n",
      "60000  miles    15\n",
      "                ..\n",
      "201000  km       1\n",
      "8800  km         1\n",
      "101  miles       1\n",
      "96122  km        1\n",
      "68900  miles     1\n",
      "Name: count, Length: 643, dtype: int64\n",
      "------------------------------------\n",
      "wheel\n",
      "left    1633\n",
      "Name: count, dtype: int64\n",
      "------------------------------------\n",
      "color\n",
      "black      537\n",
      "white      406\n",
      "silver     220\n",
      "gray       188\n",
      "blue       141\n",
      "red         47\n",
      "other       30\n",
      "cherry      20\n",
      "green       10\n",
      "brown       10\n",
      "golden       6\n",
      "orange       5\n",
      "beige        5\n",
      "clove        3\n",
      "purple       2\n",
      "skyblue      2\n",
      "pink         1\n",
      "Name: count, dtype: int64\n",
      "------------------------------------\n",
      "type\n",
      "sedan                1268\n",
      "suv                   300\n",
      "Universal              37\n",
      "hatchback              15\n",
      "Coupe                  11\n",
      "pickup                  1\n",
      "minivan / minibus       1\n",
      "Name: count, dtype: int64\n",
      "------------------------------------\n",
      "status\n",
      "excellent    1192\n",
      "good          333\n",
      "normal         58\n",
      "crashed        29\n",
      "new            21\n",
      "Name: count, dtype: int64\n",
      "------------------------------------\n"
     ]
    }
   ],
   "source": [
    "for column in train_data.columns:\n",
    "    if train_data[column].dtype=='object':\n",
    "        print(train_data[column].value_counts())\n",
    "        print('------------------------------------')"
   ]
  },
  {
   "cell_type": "code",
   "execution_count": 8,
   "id": "2dc60437",
   "metadata": {
    "execution": {
     "iopub.execute_input": "2024-01-30T07:31:13.819279Z",
     "iopub.status.busy": "2024-01-30T07:31:13.818193Z",
     "iopub.status.idle": "2024-01-30T07:31:13.831912Z",
     "shell.execute_reply": "2024-01-30T07:31:13.830509Z"
    },
    "papermill": {
     "duration": 0.031215,
     "end_time": "2024-01-30T07:31:13.834922",
     "exception": false,
     "start_time": "2024-01-30T07:31:13.803707",
     "status": "completed"
    },
    "tags": []
   },
   "outputs": [],
   "source": [
    "train_data['year'] = train_data['year'].astype(object)\n",
    "X_test['year'] = X_test['year'].astype(object)\n",
    "ids = X_test['Id']\n",
    "X_test = X_test.drop('Id', axis=1)\n",
    "train_data.drop('wheel', axis=1, inplace=True)\n",
    "X_test.drop('wheel', axis=1, inplace=True)"
   ]
  },
  {
   "cell_type": "code",
   "execution_count": 9,
   "id": "87392345",
   "metadata": {
    "execution": {
     "iopub.execute_input": "2024-01-30T07:31:13.862616Z",
     "iopub.status.busy": "2024-01-30T07:31:13.862175Z",
     "iopub.status.idle": "2024-01-30T07:31:13.870163Z",
     "shell.execute_reply": "2024-01-30T07:31:13.868544Z"
    },
    "papermill": {
     "duration": 0.025286,
     "end_time": "2024-01-30T07:31:13.872826",
     "exception": false,
     "start_time": "2024-01-30T07:31:13.847540",
     "status": "completed"
    },
    "tags": []
   },
   "outputs": [],
   "source": [
    "#split the train_data to train data and labels\n",
    "X_train_full = train_data.drop('price', axis=1)\n",
    "y_train_full = train_data['price']"
   ]
  },
  {
   "cell_type": "code",
   "execution_count": 10,
   "id": "f1ee1c3a",
   "metadata": {
    "execution": {
     "iopub.execute_input": "2024-01-30T07:31:13.900065Z",
     "iopub.status.busy": "2024-01-30T07:31:13.899638Z",
     "iopub.status.idle": "2024-01-30T07:31:13.907309Z",
     "shell.execute_reply": "2024-01-30T07:31:13.905625Z"
    },
    "papermill": {
     "duration": 0.025067,
     "end_time": "2024-01-30T07:31:13.910238",
     "exception": false,
     "start_time": "2024-01-30T07:31:13.885171",
     "status": "completed"
    },
    "tags": []
   },
   "outputs": [],
   "source": [
    "def convert_miles_to_kilometers(distance_str):\n",
    "    if 'miles' in distance_str.lower():\n",
    "        miles = float(distance_str.split()[0])\n",
    "        kilometers = miles * 1.60934\n",
    "        return kilometers\n",
    "    else:\n",
    "        return float(distance_str.split()[0])"
   ]
  },
  {
   "cell_type": "code",
   "execution_count": 11,
   "id": "37dacafe",
   "metadata": {
    "execution": {
     "iopub.execute_input": "2024-01-30T07:31:13.939465Z",
     "iopub.status.busy": "2024-01-30T07:31:13.938299Z",
     "iopub.status.idle": "2024-01-30T07:31:13.946712Z",
     "shell.execute_reply": "2024-01-30T07:31:13.945454Z"
    },
    "papermill": {
     "duration": 0.025331,
     "end_time": "2024-01-30T07:31:13.949629",
     "exception": false,
     "start_time": "2024-01-30T07:31:13.924298",
     "status": "completed"
    },
    "tags": []
   },
   "outputs": [],
   "source": [
    "X_train_full['running'] = X_train_full['running'].apply(convert_miles_to_kilometers)"
   ]
  },
  {
   "cell_type": "code",
   "execution_count": 12,
   "id": "a7af9892",
   "metadata": {
    "execution": {
     "iopub.execute_input": "2024-01-30T07:31:13.975547Z",
     "iopub.status.busy": "2024-01-30T07:31:13.975112Z",
     "iopub.status.idle": "2024-01-30T07:31:13.982199Z",
     "shell.execute_reply": "2024-01-30T07:31:13.981178Z"
    },
    "papermill": {
     "duration": 0.023012,
     "end_time": "2024-01-30T07:31:13.984661",
     "exception": false,
     "start_time": "2024-01-30T07:31:13.961649",
     "status": "completed"
    },
    "tags": []
   },
   "outputs": [],
   "source": [
    "X_test['running'] = X_test['running'].apply(convert_miles_to_kilometers)"
   ]
  },
  {
   "cell_type": "code",
   "execution_count": 13,
   "id": "c7bb2931",
   "metadata": {
    "execution": {
     "iopub.execute_input": "2024-01-30T07:31:14.011012Z",
     "iopub.status.busy": "2024-01-30T07:31:14.010361Z",
     "iopub.status.idle": "2024-01-30T07:31:14.027021Z",
     "shell.execute_reply": "2024-01-30T07:31:14.025526Z"
    },
    "papermill": {
     "duration": 0.035217,
     "end_time": "2024-01-30T07:31:14.031781",
     "exception": false,
     "start_time": "2024-01-30T07:31:13.996564",
     "status": "completed"
    },
    "tags": []
   },
   "outputs": [
    {
     "name": "stdout",
     "output_type": "stream",
     "text": [
      "<class 'pandas.core.frame.DataFrame'>\n",
      "Index: 1633 entries, 0 to 1641\n",
      "Data columns (total 8 columns):\n",
      " #   Column        Non-Null Count  Dtype  \n",
      "---  ------        --------------  -----  \n",
      " 0   model         1633 non-null   object \n",
      " 1   year          1633 non-null   object \n",
      " 2   motor_type    1633 non-null   object \n",
      " 3   running       1633 non-null   float64\n",
      " 4   color         1633 non-null   object \n",
      " 5   type          1633 non-null   object \n",
      " 6   status        1633 non-null   object \n",
      " 7   motor_volume  1633 non-null   float64\n",
      "dtypes: float64(2), object(6)\n",
      "memory usage: 114.8+ KB\n"
     ]
    }
   ],
   "source": [
    "X_train_full.info()"
   ]
  },
  {
   "cell_type": "code",
   "execution_count": 14,
   "id": "d090f55a",
   "metadata": {
    "execution": {
     "iopub.execute_input": "2024-01-30T07:31:14.070171Z",
     "iopub.status.busy": "2024-01-30T07:31:14.068658Z",
     "iopub.status.idle": "2024-01-30T07:31:15.680996Z",
     "shell.execute_reply": "2024-01-30T07:31:15.680000Z"
    },
    "papermill": {
     "duration": 1.634174,
     "end_time": "2024-01-30T07:31:15.683953",
     "exception": false,
     "start_time": "2024-01-30T07:31:14.049779",
     "status": "completed"
    },
    "tags": []
   },
   "outputs": [],
   "source": [
    "from sklearn.model_selection import train_test_split\n",
    "\n",
    "X_train, X_valid, y_train, y_valid = train_test_split(X_train_full, y_train_full,\n",
    "                                                      test_size=.1, random_state=42)"
   ]
  },
  {
   "cell_type": "code",
   "execution_count": 15,
   "id": "d9757bc8",
   "metadata": {
    "execution": {
     "iopub.execute_input": "2024-01-30T07:31:15.712182Z",
     "iopub.status.busy": "2024-01-30T07:31:15.711360Z",
     "iopub.status.idle": "2024-01-30T07:31:15.728355Z",
     "shell.execute_reply": "2024-01-30T07:31:15.727328Z"
    },
    "papermill": {
     "duration": 0.034335,
     "end_time": "2024-01-30T07:31:15.731157",
     "exception": false,
     "start_time": "2024-01-30T07:31:15.696822",
     "status": "completed"
    },
    "tags": []
   },
   "outputs": [],
   "source": [
    "from sklearn.preprocessing import LabelEncoder\n",
    "\n",
    "label_encoder = LabelEncoder()\n",
    "cat_cols = ['model', 'year', 'motor_type', 'color', 'type', 'status']\n",
    "\n",
    "for col in cat_cols:\n",
    "    X_train[col] = label_encoder.fit_transform(X_train[col].values)\n",
    "    X_valid[col] = label_encoder.transform(X_valid[col])\n",
    "    X_test[col] = label_encoder.transform(X_test[col])"
   ]
  },
  {
   "cell_type": "code",
   "execution_count": 16,
   "id": "beccafa3",
   "metadata": {
    "execution": {
     "iopub.execute_input": "2024-01-30T07:31:15.765740Z",
     "iopub.status.busy": "2024-01-30T07:31:15.764915Z",
     "iopub.status.idle": "2024-01-30T07:31:15.779876Z",
     "shell.execute_reply": "2024-01-30T07:31:15.778900Z"
    },
    "papermill": {
     "duration": 0.036187,
     "end_time": "2024-01-30T07:31:15.782708",
     "exception": false,
     "start_time": "2024-01-30T07:31:15.746521",
     "status": "completed"
    },
    "tags": []
   },
   "outputs": [
    {
     "data": {
      "text/html": [
       "<div>\n",
       "<style scoped>\n",
       "    .dataframe tbody tr th:only-of-type {\n",
       "        vertical-align: middle;\n",
       "    }\n",
       "\n",
       "    .dataframe tbody tr th {\n",
       "        vertical-align: top;\n",
       "    }\n",
       "\n",
       "    .dataframe thead th {\n",
       "        text-align: right;\n",
       "    }\n",
       "</style>\n",
       "<table border=\"1\" class=\"dataframe\">\n",
       "  <thead>\n",
       "    <tr style=\"text-align: right;\">\n",
       "      <th></th>\n",
       "      <th>model</th>\n",
       "      <th>year</th>\n",
       "      <th>motor_type</th>\n",
       "      <th>running</th>\n",
       "      <th>color</th>\n",
       "      <th>type</th>\n",
       "      <th>status</th>\n",
       "      <th>motor_volume</th>\n",
       "    </tr>\n",
       "  </thead>\n",
       "  <tbody>\n",
       "    <tr>\n",
       "      <th>768</th>\n",
       "      <td>3</td>\n",
       "      <td>26</td>\n",
       "      <td>3</td>\n",
       "      <td>128747.20</td>\n",
       "      <td>14</td>\n",
       "      <td>6</td>\n",
       "      <td>1</td>\n",
       "      <td>2.0</td>\n",
       "    </tr>\n",
       "    <tr>\n",
       "      <th>261</th>\n",
       "      <td>1</td>\n",
       "      <td>27</td>\n",
       "      <td>3</td>\n",
       "      <td>43452.18</td>\n",
       "      <td>1</td>\n",
       "      <td>5</td>\n",
       "      <td>1</td>\n",
       "      <td>2.0</td>\n",
       "    </tr>\n",
       "    <tr>\n",
       "      <th>1409</th>\n",
       "      <td>1</td>\n",
       "      <td>28</td>\n",
       "      <td>3</td>\n",
       "      <td>53108.22</td>\n",
       "      <td>7</td>\n",
       "      <td>5</td>\n",
       "      <td>1</td>\n",
       "      <td>2.0</td>\n",
       "    </tr>\n",
       "    <tr>\n",
       "      <th>1313</th>\n",
       "      <td>0</td>\n",
       "      <td>26</td>\n",
       "      <td>3</td>\n",
       "      <td>65982.94</td>\n",
       "      <td>1</td>\n",
       "      <td>5</td>\n",
       "      <td>1</td>\n",
       "      <td>2.0</td>\n",
       "    </tr>\n",
       "    <tr>\n",
       "      <th>1423</th>\n",
       "      <td>0</td>\n",
       "      <td>29</td>\n",
       "      <td>3</td>\n",
       "      <td>41842.84</td>\n",
       "      <td>7</td>\n",
       "      <td>5</td>\n",
       "      <td>1</td>\n",
       "      <td>2.0</td>\n",
       "    </tr>\n",
       "  </tbody>\n",
       "</table>\n",
       "</div>"
      ],
      "text/plain": [
       "      model  year  motor_type    running  color  type  status  motor_volume\n",
       "768       3    26           3  128747.20     14     6       1           2.0\n",
       "261       1    27           3   43452.18      1     5       1           2.0\n",
       "1409      1    28           3   53108.22      7     5       1           2.0\n",
       "1313      0    26           3   65982.94      1     5       1           2.0\n",
       "1423      0    29           3   41842.84      7     5       1           2.0"
      ]
     },
     "execution_count": 16,
     "metadata": {},
     "output_type": "execute_result"
    }
   ],
   "source": [
    "X_train.head()"
   ]
  },
  {
   "cell_type": "code",
   "execution_count": 17,
   "id": "7701651d",
   "metadata": {
    "execution": {
     "iopub.execute_input": "2024-01-30T07:31:15.814376Z",
     "iopub.status.busy": "2024-01-30T07:31:15.813940Z",
     "iopub.status.idle": "2024-01-30T07:31:15.829857Z",
     "shell.execute_reply": "2024-01-30T07:31:15.828599Z"
    },
    "papermill": {
     "duration": 0.033366,
     "end_time": "2024-01-30T07:31:15.832775",
     "exception": false,
     "start_time": "2024-01-30T07:31:15.799409",
     "status": "completed"
    },
    "tags": []
   },
   "outputs": [],
   "source": [
    "X_train = pd.get_dummies(X_train, columns=['status'])\n",
    "X_valid = pd.get_dummies(X_valid, columns=['status'])\n",
    "X_test = pd.get_dummies(X_test, columns=['status'])"
   ]
  },
  {
   "cell_type": "code",
   "execution_count": 18,
   "id": "39093f68",
   "metadata": {
    "execution": {
     "iopub.execute_input": "2024-01-30T07:31:15.860308Z",
     "iopub.status.busy": "2024-01-30T07:31:15.859485Z",
     "iopub.status.idle": "2024-01-30T07:31:15.879339Z",
     "shell.execute_reply": "2024-01-30T07:31:15.878349Z"
    },
    "papermill": {
     "duration": 0.036528,
     "end_time": "2024-01-30T07:31:15.882111",
     "exception": false,
     "start_time": "2024-01-30T07:31:15.845583",
     "status": "completed"
    },
    "tags": []
   },
   "outputs": [],
   "source": [
    "X_train.replace({True:1, False:0}, inplace=True)\n",
    "X_valid.replace({True:1, False:0}, inplace=True)\n",
    "X_test.replace({True:1, False:0}, inplace=True)"
   ]
  },
  {
   "cell_type": "code",
   "execution_count": 19,
   "id": "ec14ab80",
   "metadata": {
    "execution": {
     "iopub.execute_input": "2024-01-30T07:31:15.909712Z",
     "iopub.status.busy": "2024-01-30T07:31:15.908823Z",
     "iopub.status.idle": "2024-01-30T07:31:15.917706Z",
     "shell.execute_reply": "2024-01-30T07:31:15.914876Z"
    },
    "papermill": {
     "duration": 0.026035,
     "end_time": "2024-01-30T07:31:15.920576",
     "exception": false,
     "start_time": "2024-01-30T07:31:15.894541",
     "status": "completed"
    },
    "tags": []
   },
   "outputs": [],
   "source": [
    "columns = X_train.columns"
   ]
  },
  {
   "cell_type": "code",
   "execution_count": 20,
   "id": "17a58c23",
   "metadata": {
    "execution": {
     "iopub.execute_input": "2024-01-30T07:31:15.947700Z",
     "iopub.status.busy": "2024-01-30T07:31:15.947155Z",
     "iopub.status.idle": "2024-01-30T07:31:15.956929Z",
     "shell.execute_reply": "2024-01-30T07:31:15.955839Z"
    },
    "papermill": {
     "duration": 0.026115,
     "end_time": "2024-01-30T07:31:15.959382",
     "exception": false,
     "start_time": "2024-01-30T07:31:15.933267",
     "status": "completed"
    },
    "tags": []
   },
   "outputs": [],
   "source": [
    "from sklearn.preprocessing import MinMaxScaler\n",
    "\n",
    "scaler = MinMaxScaler()\n",
    "\n",
    "X_train = scaler.fit_transform(X_train.values)\n",
    "X_valid = scaler.transform(X_valid.values)\n",
    "X_test = scaler.transform(X_test.values)"
   ]
  },
  {
   "cell_type": "code",
   "execution_count": 21,
   "id": "9fffc3d7",
   "metadata": {
    "execution": {
     "iopub.execute_input": "2024-01-30T07:31:15.988956Z",
     "iopub.status.busy": "2024-01-30T07:31:15.987542Z",
     "iopub.status.idle": "2024-01-30T07:31:15.995375Z",
     "shell.execute_reply": "2024-01-30T07:31:15.994069Z"
    },
    "papermill": {
     "duration": 0.02599,
     "end_time": "2024-01-30T07:31:15.998241",
     "exception": false,
     "start_time": "2024-01-30T07:31:15.972251",
     "status": "completed"
    },
    "tags": []
   },
   "outputs": [],
   "source": [
    "X_train = pd.DataFrame(X_train, columns=columns)\n",
    "X_valid = pd.DataFrame(X_valid, columns=columns)\n",
    "X_test = pd.DataFrame(X_test, columns=columns)"
   ]
  },
  {
   "cell_type": "code",
   "execution_count": 22,
   "id": "29448819",
   "metadata": {
    "execution": {
     "iopub.execute_input": "2024-01-30T07:31:16.025474Z",
     "iopub.status.busy": "2024-01-30T07:31:16.024920Z",
     "iopub.status.idle": "2024-01-30T07:31:19.445174Z",
     "shell.execute_reply": "2024-01-30T07:31:19.444051Z"
    },
    "papermill": {
     "duration": 3.437425,
     "end_time": "2024-01-30T07:31:19.447990",
     "exception": false,
     "start_time": "2024-01-30T07:31:16.010565",
     "status": "completed"
    },
    "tags": []
   },
   "outputs": [
    {
     "data": {
      "image/png": "[encoded data removed]",
      "text/plain": [
       "<Figure size 1200x800 with 12 Axes>"
      ]
     },
     "metadata": {},
     "output_type": "display_data"
    }
   ],
   "source": [
    "import matplotlib.pyplot as plt\n",
    "plt.rc('font', size=8)\n",
    "plt.rc('axes', labelsize=8, titlesize=8)\n",
    "plt.rc('legend', fontsize=8)\n",
    "plt.rc('xtick', labelsize=7)\n",
    "plt.rc('ytick', labelsize=7)\n",
    "\n",
    "X_train.hist(bins=50, figsize=(12, 8))\n",
    "plt.show()"
   ]
  },
  {
   "cell_type": "code",
   "execution_count": 23,
   "id": "2845e48d",
   "metadata": {
    "execution": {
     "iopub.execute_input": "2024-01-30T07:31:19.476393Z",
     "iopub.status.busy": "2024-01-30T07:31:19.475593Z",
     "iopub.status.idle": "2024-01-30T07:31:20.659865Z",
     "shell.execute_reply": "2024-01-30T07:31:20.658508Z"
    },
    "papermill": {
     "duration": 1.20156,
     "end_time": "2024-01-30T07:31:20.662602",
     "exception": false,
     "start_time": "2024-01-30T07:31:19.461042",
     "status": "completed"
    },
    "tags": []
   },
   "outputs": [
    {
     "data": {
      "text/plain": [
       "Text(99.72222222222221, 0.5, 'Features')"
      ]
     },
     "execution_count": 23,
     "metadata": {},
     "output_type": "execute_result"
    },
    {
     "data": {
      "image/png": "[encoded data removed]",
      "text/plain": [
       "<Figure size 1000x600 with 2 Axes>"
      ]
     },
     "metadata": {},
     "output_type": "display_data"
    }
   ],
   "source": [
    "import seaborn as sns\n",
    "import matplotlib.pyplot as plt\n",
    "\n",
    "desc_stats = X_train.describe()\n",
    "\n",
    "plt.figure(figsize=(10, 6))\n",
    "heatmap = sns.heatmap(desc_stats, annot=True, fmt=\".2f\", cmap='YlGnBu')\n",
    "\n",
    "plt.title('Heatmap of Descriptive Statistics')\n",
    "plt.xlabel('Statistics')\n",
    "plt.ylabel('Features')"
   ]
  },
  {
   "cell_type": "code",
   "execution_count": 24,
   "id": "8e501ba6",
   "metadata": {
    "execution": {
     "iopub.execute_input": "2024-01-30T07:31:20.693094Z",
     "iopub.status.busy": "2024-01-30T07:31:20.692652Z",
     "iopub.status.idle": "2024-01-30T07:31:21.476985Z",
     "shell.execute_reply": "2024-01-30T07:31:21.475817Z"
    },
    "papermill": {
     "duration": 0.803313,
     "end_time": "2024-01-30T07:31:21.480193",
     "exception": false,
     "start_time": "2024-01-30T07:31:20.676880",
     "status": "completed"
    },
    "tags": []
   },
   "outputs": [],
   "source": [
    "from sklearn.linear_model import LinearRegression, Ridge, Lasso\n",
    "from sklearn.tree import DecisionTreeRegressor\n",
    "from sklearn.ensemble import RandomForestRegressor, GradientBoostingRegressor, HistGradientBoostingRegressor\n",
    "from sklearn.svm import SVR\n",
    "from xgboost import XGBRegressor\n",
    "from catboost import CatBoostRegressor\n",
    "\n",
    "lin_reg = LinearRegression()\n",
    "ridge = Ridge()\n",
    "lasso = Lasso()\n",
    "tree_reg = DecisionTreeRegressor()\n",
    "grad_boost_reg = GradientBoostingRegressor()\n",
    "XGB_reg = XGBRegressor()\n",
    "catboost_reg = CatBoostRegressor(loss_function='MAE', silent = True)\n",
    "h_grad_boost_reg = HistGradientBoostingRegressor()\n",
    "svm_reg = SVR()\n"
   ]
  },
  {
   "cell_type": "code",
   "execution_count": 25,
   "id": "1a19e63d",
   "metadata": {
    "execution": {
     "iopub.execute_input": "2024-01-30T07:31:21.512157Z",
     "iopub.status.busy": "2024-01-30T07:31:21.511308Z",
     "iopub.status.idle": "2024-01-30T07:31:21.522457Z",
     "shell.execute_reply": "2024-01-30T07:31:21.521499Z"
    },
    "papermill": {
     "duration": 0.030617,
     "end_time": "2024-01-30T07:31:21.525164",
     "exception": false,
     "start_time": "2024-01-30T07:31:21.494547",
     "status": "completed"
    },
    "tags": []
   },
   "outputs": [],
   "source": [
    "import numpy as np\n",
    "from sklearn.metrics import mean_squared_error\n",
    "from sklearn.metrics import mean_absolute_error\n",
    "from sklearn.model_selection import cross_val_score\n",
    "\n",
    "def display_scores(models, X_valid=X_valid, y_valid=y_valid):\n",
    "    name, rmse, mae ,score ,rmse_scores= [],[],[],[],[]\n",
    "    for model in models:\n",
    "        name.append(type(model).__name__)\n",
    "        model.fit(X_train, y_train)\n",
    "        y_pred = model.predict(X_valid)\n",
    "        rmse.append(np.sqrt(mean_squared_error(y_valid, y_pred)))\n",
    "        mae.append(mean_absolute_error(y_valid, y_pred))\n",
    "        scores = cross_val_score(model, X_valid, y_valid, scoring=\"neg_mean_squared_error\", cv=10).mean()\n",
    "        score.append(-scores.T.round(2))\n",
    "        rmse_scores.append(np.sqrt(-scores.T.round(2)))\n",
    "    result = pd.DataFrame({'MODEL':name, 'RMSE':rmse, 'MAE':mae, 'SCORES MEAN':score, 'SCORES RMSE':rmse_scores})\n",
    "    return result.style.highlight_min(subset=['RMSE','MAE', 'SCORES MEAN', 'SCORES RMSE'], color='lightgreen').highlight_max(subset=['RMSE','MAE', 'SCORES MEAN', 'SCORES RMSE'], color='pink')\n",
    "    "
   ]
  },
  {
   "cell_type": "code",
   "execution_count": 26,
   "id": "1e85c1f2",
   "metadata": {
    "execution": {
     "iopub.execute_input": "2024-01-30T07:31:21.555732Z",
     "iopub.status.busy": "2024-01-30T07:31:21.555317Z",
     "iopub.status.idle": "2024-01-30T07:31:31.885646Z",
     "shell.execute_reply": "2024-01-30T07:31:31.884423Z"
    },
    "papermill": {
     "duration": 10.348587,
     "end_time": "2024-01-30T07:31:31.888373",
     "exception": false,
     "start_time": "2024-01-30T07:31:21.539786",
     "status": "completed"
    },
    "tags": []
   },
   "outputs": [
    {
     "data": {
      "text/html": [
       "<style type=\"text/css\">\n",
       "#T_55818_row4_col3, #T_55818_row4_col4, #T_55818_row6_col1, #T_55818_row6_col2 {\n",
       "  background-color: lightgreen;\n",
       "}\n",
       "#T_55818_row7_col1, #T_55818_row7_col2, #T_55818_row7_col3, #T_55818_row7_col4 {\n",
       "  background-color: pink;\n",
       "}\n",
       "</style>\n",
       "<table id=\"T_55818\">\n",
       "  <thead>\n",
       "    <tr>\n",
       "      <th class=\"blank level0\" >&nbsp;</th>\n",
       "      <th id=\"T_55818_level0_col0\" class=\"col_heading level0 col0\" >MODEL</th>\n",
       "      <th id=\"T_55818_level0_col1\" class=\"col_heading level0 col1\" >RMSE</th>\n",
       "      <th id=\"T_55818_level0_col2\" class=\"col_heading level0 col2\" >MAE</th>\n",
       "      <th id=\"T_55818_level0_col3\" class=\"col_heading level0 col3\" >SCORES MEAN</th>\n",
       "      <th id=\"T_55818_level0_col4\" class=\"col_heading level0 col4\" >SCORES RMSE</th>\n",
       "    </tr>\n",
       "  </thead>\n",
       "  <tbody>\n",
       "    <tr>\n",
       "      <th id=\"T_55818_level0_row0\" class=\"row_heading level0 row0\" >0</th>\n",
       "      <td id=\"T_55818_row0_col0\" class=\"data row0 col0\" >LinearRegression</td>\n",
       "      <td id=\"T_55818_row0_col1\" class=\"data row0 col1\" >5168.118715</td>\n",
       "      <td id=\"T_55818_row0_col2\" class=\"data row0 col2\" >3426.640244</td>\n",
       "      <td id=\"T_55818_row0_col3\" class=\"data row0 col3\" >31430193.630000</td>\n",
       "      <td id=\"T_55818_row0_col4\" class=\"data row0 col4\" >5606.263785</td>\n",
       "    </tr>\n",
       "    <tr>\n",
       "      <th id=\"T_55818_level0_row1\" class=\"row_heading level0 row1\" >1</th>\n",
       "      <td id=\"T_55818_row1_col0\" class=\"data row1 col0\" >Ridge</td>\n",
       "      <td id=\"T_55818_row1_col1\" class=\"data row1 col1\" >5165.681192</td>\n",
       "      <td id=\"T_55818_row1_col2\" class=\"data row1 col2\" >3389.858480</td>\n",
       "      <td id=\"T_55818_row1_col3\" class=\"data row1 col3\" >29556699.940000</td>\n",
       "      <td id=\"T_55818_row1_col4\" class=\"data row1 col4\" >5436.607392</td>\n",
       "    </tr>\n",
       "    <tr>\n",
       "      <th id=\"T_55818_level0_row2\" class=\"row_heading level0 row2\" >2</th>\n",
       "      <td id=\"T_55818_row2_col0\" class=\"data row2 col0\" >Lasso</td>\n",
       "      <td id=\"T_55818_row2_col1\" class=\"data row2 col1\" >5166.308166</td>\n",
       "      <td id=\"T_55818_row2_col2\" class=\"data row2 col2\" >3409.137903</td>\n",
       "      <td id=\"T_55818_row2_col3\" class=\"data row2 col3\" >31308042.660000</td>\n",
       "      <td id=\"T_55818_row2_col4\" class=\"data row2 col4\" >5595.359029</td>\n",
       "    </tr>\n",
       "    <tr>\n",
       "      <th id=\"T_55818_level0_row3\" class=\"row_heading level0 row3\" >3</th>\n",
       "      <td id=\"T_55818_row3_col0\" class=\"data row3 col0\" >DecisionTreeRegressor</td>\n",
       "      <td id=\"T_55818_row3_col1\" class=\"data row3 col1\" >4070.044309</td>\n",
       "      <td id=\"T_55818_row3_col2\" class=\"data row3 col2\" >2473.713415</td>\n",
       "      <td id=\"T_55818_row3_col3\" class=\"data row3 col3\" >33265393.800000</td>\n",
       "      <td id=\"T_55818_row3_col4\" class=\"data row3 col4\" >5767.615955</td>\n",
       "    </tr>\n",
       "    <tr>\n",
       "      <th id=\"T_55818_level0_row4\" class=\"row_heading level0 row4\" >4</th>\n",
       "      <td id=\"T_55818_row4_col0\" class=\"data row4 col0\" >XGBRegressor</td>\n",
       "      <td id=\"T_55818_row4_col1\" class=\"data row4 col1\" >3430.761610</td>\n",
       "      <td id=\"T_55818_row4_col2\" class=\"data row4 col2\" >2163.396376</td>\n",
       "      <td id=\"T_55818_row4_col3\" class=\"data row4 col3\" >16264468.240000</td>\n",
       "      <td id=\"T_55818_row4_col4\" class=\"data row4 col4\" >4032.923039</td>\n",
       "    </tr>\n",
       "    <tr>\n",
       "      <th id=\"T_55818_level0_row5\" class=\"row_heading level0 row5\" >5</th>\n",
       "      <td id=\"T_55818_row5_col0\" class=\"data row5 col0\" >GradientBoostingRegressor</td>\n",
       "      <td id=\"T_55818_row5_col1\" class=\"data row5 col1\" >3199.418129</td>\n",
       "      <td id=\"T_55818_row5_col2\" class=\"data row5 col2\" >2021.851711</td>\n",
       "      <td id=\"T_55818_row5_col3\" class=\"data row5 col3\" >17292870.590000</td>\n",
       "      <td id=\"T_55818_row5_col4\" class=\"data row5 col4\" >4158.469741</td>\n",
       "    </tr>\n",
       "    <tr>\n",
       "      <th id=\"T_55818_level0_row6\" class=\"row_heading level0 row6\" >6</th>\n",
       "      <td id=\"T_55818_row6_col0\" class=\"data row6 col0\" >CatBoostRegressor</td>\n",
       "      <td id=\"T_55818_row6_col1\" class=\"data row6 col1\" >3090.921506</td>\n",
       "      <td id=\"T_55818_row6_col2\" class=\"data row6 col2\" >1900.248123</td>\n",
       "      <td id=\"T_55818_row6_col3\" class=\"data row6 col3\" >16858700.670000</td>\n",
       "      <td id=\"T_55818_row6_col4\" class=\"data row6 col4\" >4105.934811</td>\n",
       "    </tr>\n",
       "    <tr>\n",
       "      <th id=\"T_55818_level0_row7\" class=\"row_heading level0 row7\" >7</th>\n",
       "      <td id=\"T_55818_row7_col0\" class=\"data row7 col0\" >SVR</td>\n",
       "      <td id=\"T_55818_row7_col1\" class=\"data row7 col1\" >7601.591896</td>\n",
       "      <td id=\"T_55818_row7_col2\" class=\"data row7 col2\" >5553.516174</td>\n",
       "      <td id=\"T_55818_row7_col3\" class=\"data row7 col3\" >58428273.990000</td>\n",
       "      <td id=\"T_55818_row7_col4\" class=\"data row7 col4\" >7643.838956</td>\n",
       "    </tr>\n",
       "  </tbody>\n",
       "</table>\n"
      ],
      "text/plain": [
       "<pandas.io.formats.style.Styler at 0x7f0316cc3b20>"
      ]
     },
     "execution_count": 26,
     "metadata": {},
     "output_type": "execute_result"
    }
   ],
   "source": [
    "models = [lin_reg,ridge,lasso,tree_reg,XGB_reg,grad_boost_reg,catboost_reg,svm_reg]\n",
    "display_scores(models)"
   ]
  },
  {
   "cell_type": "code",
   "execution_count": 27,
   "id": "6427bf26",
   "metadata": {
    "execution": {
     "iopub.execute_input": "2024-01-30T07:31:31.919295Z",
     "iopub.status.busy": "2024-01-30T07:31:31.918664Z",
     "iopub.status.idle": "2024-01-30T07:31:45.830889Z",
     "shell.execute_reply": "2024-01-30T07:31:45.829457Z"
    },
    "papermill": {
     "duration": 13.930825,
     "end_time": "2024-01-30T07:31:45.833703",
     "exception": false,
     "start_time": "2024-01-30T07:31:31.902878",
     "status": "completed"
    },
    "tags": []
   },
   "outputs": [
    {
     "name": "stdout",
     "output_type": "stream",
     "text": [
      "Fitting 10 folds for each of 10 candidates, totalling 100 fits\n"
     ]
    },
    {
     "data": {
      "text/html": [
       "<style>#sk-container-id-1 {color: black;background-color: white;}#sk-container-id-1 pre{padding: 0;}#sk-container-id-1 div.sk-toggleable {background-color: white;}#sk-container-id-1 label.sk-toggleable__label {cursor: pointer;display: block;width: 100%;margin-bottom: 0;padding: 0.3em;box-sizing: border-box;text-align: center;}#sk-container-id-1 label.sk-toggleable__label-arrow:before {content: \"▸\";float: left;margin-right: 0.25em;color: #696969;}#sk-container-id-1 label.sk-toggleable__label-arrow:hover:before {color: black;}#sk-container-id-1 div.sk-estimator:hover label.sk-toggleable__label-arrow:before {color: black;}#sk-container-id-1 div.sk-toggleable__content {max-height: 0;max-width: 0;overflow: hidden;text-align: left;background-color: #f0f8ff;}#sk-container-id-1 div.sk-toggleable__content pre {margin: 0.2em;color: black;border-radius: 0.25em;background-color: #f0f8ff;}#sk-container-id-1 input.sk-toggleable__control:checked~div.sk-toggleable__content {max-height: 200px;max-width: 100%;overflow: auto;}#sk-container-id-1 input.sk-toggleable__control:checked~label.sk-toggleable__label-arrow:before {content: \"▾\";}#sk-container-id-1 div.sk-estimator input.sk-toggleable__control:checked~label.sk-toggleable__label {background-color: #d4ebff;}#sk-container-id-1 div.sk-label input.sk-toggleable__control:checked~label.sk-toggleable__label {background-color: #d4ebff;}#sk-container-id-1 input.sk-hidden--visually {border: 0;clip: rect(1px 1px 1px 1px);clip: rect(1px, 1px, 1px, 1px);height: 1px;margin: -1px;overflow: hidden;padding: 0;position: absolute;width: 1px;}#sk-container-id-1 div.sk-estimator {font-family: monospace;background-color: #f0f8ff;border: 1px dotted black;border-radius: 0.25em;box-sizing: border-box;margin-bottom: 0.5em;}#sk-container-id-1 div.sk-estimator:hover {background-color: #d4ebff;}#sk-container-id-1 div.sk-parallel-item::after {content: \"\";width: 100%;border-bottom: 1px solid gray;flex-grow: 1;}#sk-container-id-1 div.sk-label:hover label.sk-toggleable__label {background-color: #d4ebff;}#sk-container-id-1 div.sk-serial::before {content: \"\";position: absolute;border-left: 1px solid gray;box-sizing: border-box;top: 0;bottom: 0;left: 50%;z-index: 0;}#sk-container-id-1 div.sk-serial {display: flex;flex-direction: column;align-items: center;background-color: white;padding-right: 0.2em;padding-left: 0.2em;position: relative;}#sk-container-id-1 div.sk-item {position: relative;z-index: 1;}#sk-container-id-1 div.sk-parallel {display: flex;align-items: stretch;justify-content: center;background-color: white;position: relative;}#sk-container-id-1 div.sk-item::before, #sk-container-id-1 div.sk-parallel-item::before {content: \"\";position: absolute;border-left: 1px solid gray;box-sizing: border-box;top: 0;bottom: 0;left: 50%;z-index: -1;}#sk-container-id-1 div.sk-parallel-item {display: flex;flex-direction: column;z-index: 1;position: relative;background-color: white;}#sk-container-id-1 div.sk-parallel-item:first-child::after {align-self: flex-end;width: 50%;}#sk-container-id-1 div.sk-parallel-item:last-child::after {align-self: flex-start;width: 50%;}#sk-container-id-1 div.sk-parallel-item:only-child::after {width: 0;}#sk-container-id-1 div.sk-dashed-wrapped {border: 1px dashed gray;margin: 0 0.4em 0.5em 0.4em;box-sizing: border-box;padding-bottom: 0.4em;background-color: white;}#sk-container-id-1 div.sk-label label {font-family: monospace;font-weight: bold;display: inline-block;line-height: 1.2em;}#sk-container-id-1 div.sk-label-container {text-align: center;}#sk-container-id-1 div.sk-container {/* jupyter's `normalize.less` sets `[hidden] { display: none; }` but bootstrap.min.css set `[hidden] { display: none !important; }` so we also need the `!important` here to be able to override the default hidden behavior on the sphinx rendered scikit-learn.org. See: https://github.com/scikit-learn/scikit-learn/issues/21755 */display: inline-block !important;position: relative;}#sk-container-id-1 div.sk-text-repr-fallback {display: none;}</style><div id=\"sk-container-id-1\" class=\"sk-top-container\"><div class=\"sk-text-repr-fallback\"><pre>RandomizedSearchCV(cv=10,\n",
       "                   estimator=&lt;catboost.core.CatBoostRegressor object at 0x7f02dbc56830&gt;,\n",
       "                   n_jobs=4,\n",
       "                   param_distributions={&#x27;depth&#x27;: [4, 6, 8],\n",
       "                                        &#x27;iterations&#x27;: [50, 100, 200],\n",
       "                                        &#x27;l2_leaf_reg&#x27;: [3, 5, 7],\n",
       "                                        &#x27;learning_rate&#x27;: [0.01, 0.1]},\n",
       "                   scoring=&#x27;neg_mean_absolute_error&#x27;, verbose=True)</pre><b>In a Jupyter environment, please rerun this cell to show the HTML representation or trust the notebook. <br />On GitHub, the HTML representation is unable to render, please try loading this page with nbviewer.org.</b></div><div class=\"sk-container\" hidden><div class=\"sk-item sk-dashed-wrapped\"><div class=\"sk-label-container\"><div class=\"sk-label sk-toggleable\"><input class=\"sk-toggleable__control sk-hidden--visually\" id=\"sk-estimator-id-1\" type=\"checkbox\" ><label for=\"sk-estimator-id-1\" class=\"sk-toggleable__label sk-toggleable__label-arrow\">RandomizedSearchCV</label><div class=\"sk-toggleable__content\"><pre>RandomizedSearchCV(cv=10,\n",
       "                   estimator=&lt;catboost.core.CatBoostRegressor object at 0x7f02dbc56830&gt;,\n",
       "                   n_jobs=4,\n",
       "                   param_distributions={&#x27;depth&#x27;: [4, 6, 8],\n",
       "                                        &#x27;iterations&#x27;: [50, 100, 200],\n",
       "                                        &#x27;l2_leaf_reg&#x27;: [3, 5, 7],\n",
       "                                        &#x27;learning_rate&#x27;: [0.01, 0.1]},\n",
       "                   scoring=&#x27;neg_mean_absolute_error&#x27;, verbose=True)</pre></div></div></div><div class=\"sk-parallel\"><div class=\"sk-parallel-item\"><div class=\"sk-item\"><div class=\"sk-label-container\"><div class=\"sk-label sk-toggleable\"><input class=\"sk-toggleable__control sk-hidden--visually\" id=\"sk-estimator-id-2\" type=\"checkbox\" ><label for=\"sk-estimator-id-2\" class=\"sk-toggleable__label sk-toggleable__label-arrow\">estimator: CatBoostRegressor</label><div class=\"sk-toggleable__content\"><pre>&lt;catboost.core.CatBoostRegressor object at 0x7f02dbc56830&gt;</pre></div></div></div><div class=\"sk-serial\"><div class=\"sk-item\"><div class=\"sk-estimator sk-toggleable\"><input class=\"sk-toggleable__control sk-hidden--visually\" id=\"sk-estimator-id-3\" type=\"checkbox\" ><label for=\"sk-estimator-id-3\" class=\"sk-toggleable__label sk-toggleable__label-arrow\">CatBoostRegressor</label><div class=\"sk-toggleable__content\"><pre>&lt;catboost.core.CatBoostRegressor object at 0x7f02dbc56830&gt;</pre></div></div></div></div></div></div></div></div></div></div>"
      ],
      "text/plain": [
       "RandomizedSearchCV(cv=10,\n",
       "                   estimator=<catboost.core.CatBoostRegressor object at 0x7f02dbc56830>,\n",
       "                   n_jobs=4,\n",
       "                   param_distributions={'depth': [4, 6, 8],\n",
       "                                        'iterations': [50, 100, 200],\n",
       "                                        'l2_leaf_reg': [3, 5, 7],\n",
       "                                        'learning_rate': [0.01, 0.1]},\n",
       "                   scoring='neg_mean_absolute_error', verbose=True)"
      ]
     },
     "execution_count": 27,
     "metadata": {},
     "output_type": "execute_result"
    }
   ],
   "source": [
    "from sklearn.model_selection import RandomizedSearchCV\n",
    "\n",
    "model = CatBoostRegressor(loss_function='MAE', silent = True)\n",
    "param_grid ={\n",
    "    'iterations': [50, 100, 200],\n",
    "    'learning_rate': [0.01, 0.1],\n",
    "    'depth': [4, 6, 8],\n",
    "    'l2_leaf_reg': [ 3, 5, 7],\n",
    "}\n",
    "grid_search = RandomizedSearchCV(\n",
    "    estimator = model ,\n",
    "    param_distributions = param_grid,\n",
    "    scoring = 'neg_mean_absolute_error',\n",
    "    n_jobs = 4,\n",
    "    verbose=True, \n",
    "    cv = 10,\n",
    "     )\n",
    "grid_search.fit(X_train, y_train)"
   ]
  },
  {
   "cell_type": "code",
   "execution_count": 28,
   "id": "e39b5857",
   "metadata": {
    "execution": {
     "iopub.execute_input": "2024-01-30T07:31:45.931687Z",
     "iopub.status.busy": "2024-01-30T07:31:45.930181Z",
     "iopub.status.idle": "2024-01-30T07:31:45.938005Z",
     "shell.execute_reply": "2024-01-30T07:31:45.936739Z"
    },
    "papermill": {
     "duration": 0.028009,
     "end_time": "2024-01-30T07:31:45.940655",
     "exception": false,
     "start_time": "2024-01-30T07:31:45.912646",
     "status": "completed"
    },
    "tags": []
   },
   "outputs": [
    {
     "data": {
      "text/plain": [
       "{'learning_rate': 0.1, 'l2_leaf_reg': 7, 'iterations': 100, 'depth': 6}"
      ]
     },
     "execution_count": 28,
     "metadata": {},
     "output_type": "execute_result"
    }
   ],
   "source": [
    "grid_search.best_params_"
   ]
  },
  {
   "cell_type": "code",
   "execution_count": 29,
   "id": "03a83909",
   "metadata": {
    "execution": {
     "iopub.execute_input": "2024-01-30T07:31:45.973499Z",
     "iopub.status.busy": "2024-01-30T07:31:45.972939Z",
     "iopub.status.idle": "2024-01-30T07:31:45.979867Z",
     "shell.execute_reply": "2024-01-30T07:31:45.978635Z"
    },
    "papermill": {
     "duration": 0.026888,
     "end_time": "2024-01-30T07:31:45.982936",
     "exception": false,
     "start_time": "2024-01-30T07:31:45.956048",
     "status": "completed"
    },
    "tags": []
   },
   "outputs": [
    {
     "name": "stdout",
     "output_type": "stream",
     "text": [
      "45.59211553009191 {'learning_rate': 0.1, 'l2_leaf_reg': 7, 'iterations': 50, 'depth': 8}\n",
      "62.82687718575792 {'learning_rate': 0.01, 'l2_leaf_reg': 7, 'iterations': 50, 'depth': 4}\n",
      "61.5795465625721 {'learning_rate': 0.01, 'l2_leaf_reg': 3, 'iterations': 50, 'depth': 8}\n",
      "44.818157959872245 {'learning_rate': 0.1, 'l2_leaf_reg': 7, 'iterations': 100, 'depth': 6}\n",
      "48.205451433758604 {'learning_rate': 0.1, 'l2_leaf_reg': 5, 'iterations': 50, 'depth': 4}\n",
      "50.924802339153935 {'learning_rate': 0.01, 'l2_leaf_reg': 3, 'iterations': 200, 'depth': 6}\n",
      "53.27146730814639 {'learning_rate': 0.01, 'l2_leaf_reg': 3, 'iterations': 200, 'depth': 4}\n",
      "53.21321515736641 {'learning_rate': 0.01, 'l2_leaf_reg': 7, 'iterations': 200, 'depth': 4}\n",
      "62.84487099348157 {'learning_rate': 0.01, 'l2_leaf_reg': 5, 'iterations': 50, 'depth': 4}\n",
      "45.84705264705301 {'learning_rate': 0.1, 'l2_leaf_reg': 5, 'iterations': 50, 'depth': 8}\n"
     ]
    }
   ],
   "source": [
    "cvres = grid_search.cv_results_\n",
    "for mean_score, params in zip(cvres['mean_test_score'], cvres['params']):\n",
    "    print(np.sqrt(-mean_score), params)"
   ]
  },
  {
   "cell_type": "code",
   "execution_count": 30,
   "id": "a6cc17c5",
   "metadata": {
    "execution": {
     "iopub.execute_input": "2024-01-30T07:31:46.016946Z",
     "iopub.status.busy": "2024-01-30T07:31:46.016549Z",
     "iopub.status.idle": "2024-01-30T07:31:46.023761Z",
     "shell.execute_reply": "2024-01-30T07:31:46.022606Z"
    },
    "papermill": {
     "duration": 0.027113,
     "end_time": "2024-01-30T07:31:46.026422",
     "exception": false,
     "start_time": "2024-01-30T07:31:45.999309",
     "status": "completed"
    },
    "tags": []
   },
   "outputs": [],
   "source": [
    "final_model = grid_search.best_estimator_\n",
    "y_pred = final_model.predict(X_test)"
   ]
  },
  {
   "cell_type": "code",
   "execution_count": 31,
   "id": "06dbf1ac",
   "metadata": {
    "execution": {
     "iopub.execute_input": "2024-01-30T07:31:46.060672Z",
     "iopub.status.busy": "2024-01-30T07:31:46.060238Z",
     "iopub.status.idle": "2024-01-30T07:31:46.067155Z",
     "shell.execute_reply": "2024-01-30T07:31:46.065830Z"
    },
    "papermill": {
     "duration": 0.026927,
     "end_time": "2024-01-30T07:31:46.069856",
     "exception": false,
     "start_time": "2024-01-30T07:31:46.042929",
     "status": "completed"
    },
    "tags": []
   },
   "outputs": [],
   "source": [
    "result = pd.DataFrame(data={'Id':ids, 'price':y_pred})"
   ]
  },
  {
   "cell_type": "code",
   "execution_count": 32,
   "id": "3753ef8b",
   "metadata": {
    "execution": {
     "iopub.execute_input": "2024-01-30T07:31:46.105833Z",
     "iopub.status.busy": "2024-01-30T07:31:46.105388Z",
     "iopub.status.idle": "2024-01-30T07:31:46.118175Z",
     "shell.execute_reply": "2024-01-30T07:31:46.116963Z"
    },
    "papermill": {
     "duration": 0.034146,
     "end_time": "2024-01-30T07:31:46.120784",
     "exception": false,
     "start_time": "2024-01-30T07:31:46.086638",
     "status": "completed"
    },
    "tags": []
   },
   "outputs": [
    {
     "data": {
      "text/html": [
       "<div>\n",
       "<style scoped>\n",
       "    .dataframe tbody tr th:only-of-type {\n",
       "        vertical-align: middle;\n",
       "    }\n",
       "\n",
       "    .dataframe tbody tr th {\n",
       "        vertical-align: top;\n",
       "    }\n",
       "\n",
       "    .dataframe thead th {\n",
       "        text-align: right;\n",
       "    }\n",
       "</style>\n",
       "<table border=\"1\" class=\"dataframe\">\n",
       "  <thead>\n",
       "    <tr style=\"text-align: right;\">\n",
       "      <th></th>\n",
       "      <th>Id</th>\n",
       "      <th>price</th>\n",
       "    </tr>\n",
       "  </thead>\n",
       "  <tbody>\n",
       "    <tr>\n",
       "      <th>0</th>\n",
       "      <td>0</td>\n",
       "      <td>17608.906487</td>\n",
       "    </tr>\n",
       "    <tr>\n",
       "      <th>1</th>\n",
       "      <td>1</td>\n",
       "      <td>17014.716007</td>\n",
       "    </tr>\n",
       "    <tr>\n",
       "      <th>2</th>\n",
       "      <td>2</td>\n",
       "      <td>22628.110058</td>\n",
       "    </tr>\n",
       "    <tr>\n",
       "      <th>3</th>\n",
       "      <td>3</td>\n",
       "      <td>14744.895356</td>\n",
       "    </tr>\n",
       "    <tr>\n",
       "      <th>4</th>\n",
       "      <td>4</td>\n",
       "      <td>6709.210731</td>\n",
       "    </tr>\n",
       "  </tbody>\n",
       "</table>\n",
       "</div>"
      ],
      "text/plain": [
       "   Id         price\n",
       "0   0  17608.906487\n",
       "1   1  17014.716007\n",
       "2   2  22628.110058\n",
       "3   3  14744.895356\n",
       "4   4   6709.210731"
      ]
     },
     "execution_count": 32,
     "metadata": {},
     "output_type": "execute_result"
    }
   ],
   "source": [
    "result.head()"
   ]
  },
  {
   "cell_type": "code",
   "execution_count": 33,
   "id": "24998103",
   "metadata": {
    "execution": {
     "iopub.execute_input": "2024-01-30T07:31:46.154479Z",
     "iopub.status.busy": "2024-01-30T07:31:46.154032Z",
     "iopub.status.idle": "2024-01-30T07:31:46.166826Z",
     "shell.execute_reply": "2024-01-30T07:31:46.165637Z"
    },
    "papermill": {
     "duration": 0.032943,
     "end_time": "2024-01-30T07:31:46.169634",
     "exception": false,
     "start_time": "2024-01-30T07:31:46.136691",
     "status": "completed"
    },
    "tags": []
   },
   "outputs": [],
   "source": [
    "result.to_csv('submission.csv', index=False)"
   ]
  },
  {
   "cell_type": "code",
   "execution_count": null,
   "id": "071d2a8e",
   "metadata": {
    "papermill": {
     "duration": 0.015958,
     "end_time": "2024-01-30T07:31:46.201300",
     "exception": false,
     "start_time": "2024-01-30T07:31:46.185342",
     "status": "completed"
    },
    "tags": []
   },
   "outputs": [],
   "source": []
  }
 ],
 "metadata": {
  "kaggle": {
   "accelerator": "none",
   "dataSources": [
    {
     "databundleVersionId": 7270400,
     "sourceId": 65472,
     "sourceType": "competition"
    }
   ],
   "dockerImageVersionId": 30635,
   "isGpuEnabled": false,
   "isInternetEnabled": true,
   "language": "python",
   "sourceType": "notebook"
  },
  "kernelspec": {
   "display_name": "Python 3",
   "language": "python",
   "name": "python3"
  },
  "language_info": {
   "codemirror_mode": {
    "name": "ipython",
    "version": 3
   },
   "file_extension": ".py",
   "mimetype": "text/x-python",
   "name": "python",
   "nbconvert_exporter": "python",
   "pygments_lexer": "ipython3",
   "version": "3.10.12"
  },
  "papermill": {
   "default_parameters": {},
   "duration": 41.037093,
   "end_time": "2024-01-30T07:31:48.837345",
   "environment_variables": {},
   "exception": null,
   "input_path": "__notebook__.ipynb",
   "output_path": "__notebook__.ipynb",
   "parameters": {},
   "start_time": "2024-01-30T07:31:07.800252",
   "version": "2.4.0"
  }
 },
 "nbformat": 4,
 "nbformat_minor": 5
}
